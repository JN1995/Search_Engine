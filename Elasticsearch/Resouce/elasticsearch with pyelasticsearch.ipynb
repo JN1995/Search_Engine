{
 "cells": [
  {
   "cell_type": "code",
   "execution_count": 1,
   "metadata": {},
   "outputs": [],
   "source": [
    "from pyelasticsearch import ElasticSearch"
   ]
  },
  {
   "cell_type": "code",
   "execution_count": 2,
   "metadata": {},
   "outputs": [],
   "source": [
    "pyes = ElasticSearch(\"http://localhost:9200\")"
   ]
  },
  {
   "cell_type": "code",
   "execution_count": 3,
   "metadata": {
    "scrolled": false
   },
   "outputs": [
    {
     "data": {
      "text/plain": [
       "{u'_id': u'AWeCuXUBPyN7UYN44B7N',\n",
       " u'_index': u'contact',\n",
       " u'_shards': {u'failed': 0, u'successful': 1, u'total': 2},\n",
       " u'_type': u'person',\n",
       " u'_version': 1,\n",
       " u'created': True,\n",
       " u'result': u'created'}"
      ]
     },
     "execution_count": 3,
     "metadata": {},
     "output_type": "execute_result"
    }
   ],
   "source": [
    "pyes.index('contact', 'person', '{\"name\": \"David\", \"age\":12}')"
   ]
  },
  {
   "cell_type": "code",
   "execution_count": 8,
   "metadata": {},
   "outputs": [
    {
     "data": {
      "text/plain": [
       "{u'_id': u'1',\n",
       " u'_index': u'contact',\n",
       " u'_shards': {u'failed': 0, u'successful': 1, u'total': 2},\n",
       " u'_type': u'person',\n",
       " u'_version': 3,\n",
       " u'created': False,\n",
       " u'result': u'updated'}"
      ]
     },
     "execution_count": 8,
     "metadata": {},
     "output_type": "execute_result"
    }
   ],
   "source": [
    "pyes.index('contact', 'person', '{\"name\": \"John\", \"age\": 12}', id = 1)"
   ]
  },
  {
   "cell_type": "code",
   "execution_count": 15,
   "metadata": {},
   "outputs": [],
   "source": [
    "docs = [{\"id\":2, \"name\": \"Hello\", \"age\": 12},\n",
    "       {\"id\":3, \"name\":\"Tommy\", \"age\": 18}]"
   ]
  },
  {
   "cell_type": "code",
   "execution_count": 16,
   "metadata": {},
   "outputs": [
    {
     "data": {
      "text/plain": [
       "{'took': 187,\n",
       " 'errors': False,\n",
       " 'items': [{'index': {'_index': 'contact',\n",
       "    '_type': 'person',\n",
       "    '_id': '2',\n",
       "    '_version': 1,\n",
       "    'result': 'created',\n",
       "    '_shards': {'total': 2, 'successful': 1, 'failed': 0},\n",
       "    'created': True,\n",
       "    'status': 201}},\n",
       "  {'index': {'_index': 'contact',\n",
       "    '_type': 'person',\n",
       "    '_id': '3',\n",
       "    '_version': 1,\n",
       "    'result': 'created',\n",
       "    '_shards': {'total': 2, 'successful': 1, 'failed': 0},\n",
       "    'created': True,\n",
       "    'status': 201}}]}"
      ]
     },
     "execution_count": 16,
     "metadata": {},
     "output_type": "execute_result"
    }
   ],
   "source": [
    "pyes.bulk([pyes.index_op(doc=doc,id=doc.pop(\"id\")) for doc in docs], doc_type='person', index='contact')"
   ]
  },
  {
   "cell_type": "code",
   "execution_count": 17,
   "metadata": {},
   "outputs": [
    {
     "name": "stdout",
     "output_type": "stream",
     "text": [
      "Help on method bulk_index in module pyelasticsearch.client:\n",
      "\n",
      "bulk_index(index, doc_type, docs, id_field='id', parent_field='_parent', index_field='_index', type_field='_type', query_params=None) method of pyelasticsearch.client.ElasticSearch instance\n",
      "    Index a list of documents as efficiently as possible.\n",
      "    \n",
      "    .. note::\n",
      "    \n",
      "        This is deprecated in favor of :meth:`bulk()`, which supports all\n",
      "        types of bulk actions, not just indexing, is compatible with\n",
      "        :func:`~pyelasticsearch.bulk_chunks()` for batching, and has a\n",
      "        simpler, more flexible design.\n",
      "    \n",
      "    :arg index: The name of the index to which to add the document. Pass\n",
      "        None if you will specify indices individual in each doc.\n",
      "    :arg doc_type: The type of the document\n",
      "    :arg docs: An iterable of Python mapping objects, convertible to JSON,\n",
      "        representing documents to index\n",
      "    :arg id_field: The field of each document that holds its ID. Removed\n",
      "        from document before indexing.\n",
      "    :arg parent_field: The field of each document that holds its parent ID,\n",
      "        if any. Removed from document before indexing.\n",
      "    :arg index_field: The field of each document that holds the index to\n",
      "        put it into, if different from the ``index`` arg. Removed from\n",
      "        document before indexing.\n",
      "    :arg type_field: The field of each document that holds the doc type it\n",
      "        should become, if different from the ``doc_type`` arg. Removed from\n",
      "        the document before indexing.\n",
      "    :arg consistency: See the ES docs.\n",
      "    :arg refresh: See the ES docs.\n",
      "    :arg replication: See the ES docs.\n",
      "    :arg routing: See the ES docs.\n",
      "    :arg timeout: See the ES docs.\n",
      "    \n",
      "    Raise :class:`~pyelasticsearch.exceptions.BulkError` if the request as\n",
      "    a whole succeeded but some of the individual actions failed. You can\n",
      "    pull enough about the failed actions out of the exception to identify\n",
      "    them for retrying.\n",
      "    \n",
      "    See `ES's bulk API`_ for more detail.\n",
      "    \n",
      "    .. _`ES's bulk API`:\n",
      "        http://www.elastic.co/guide/en/elasticsearch/reference/current/docs-bulk.html\n",
      "\n"
     ]
    }
   ],
   "source": [
    "help(pyes.bulk_index)"
   ]
  },
  {
   "cell_type": "code",
   "execution_count": 19,
   "metadata": {},
   "outputs": [],
   "source": [
    "_index=\"people\"\n",
    "_doc_type=\"Vietnam\""
   ]
  },
  {
   "cell_type": "code",
   "execution_count": 20,
   "metadata": {},
   "outputs": [],
   "source": [
    "docs = [{\"id\":1, \"name\": {\"first\":\"Nguyễn\", \"last\":\"Nam\"}, \"age\": 12},\n",
    "       {\"id\":2, \"name\": {\"first\":\"Võ\", \"last\": \"Nguyên\"}, \"age\": 18}]"
   ]
  },
  {
   "cell_type": "code",
   "execution_count": 21,
   "metadata": {},
   "outputs": [
    {
     "data": {
      "text/plain": [
       "{'took': 2698,\n",
       " 'errors': False,\n",
       " 'items': [{'index': {'_index': 'people',\n",
       "    '_type': 'Vietnam',\n",
       "    '_id': '1',\n",
       "    '_version': 1,\n",
       "    'result': 'created',\n",
       "    '_shards': {'total': 2, 'successful': 1, 'failed': 0},\n",
       "    'created': True,\n",
       "    'status': 201}},\n",
       "  {'index': {'_index': 'people',\n",
       "    '_type': 'Vietnam',\n",
       "    '_id': '2',\n",
       "    '_version': 1,\n",
       "    'result': 'created',\n",
       "    '_shards': {'total': 2, 'successful': 1, 'failed': 0},\n",
       "    'created': True,\n",
       "    'status': 201}}]}"
      ]
     },
     "execution_count": 21,
     "metadata": {},
     "output_type": "execute_result"
    }
   ],
   "source": [
    "pyes.bulk_index(index=_index, doc_type=_doc_type, docs=docs)"
   ]
  },
  {
   "cell_type": "code",
   "execution_count": 4,
   "metadata": {},
   "outputs": [
    {
     "data": {
      "text/plain": [
       "{u'_shards': {u'failed': 0, u'successful': 5, u'total': 10}}"
      ]
     },
     "execution_count": 4,
     "metadata": {},
     "output_type": "execute_result"
    }
   ],
   "source": [
    "# delete index contact\n",
    "pyes.refresh('contact')"
   ]
  },
  {
   "cell_type": "code",
   "execution_count": null,
   "metadata": {},
   "outputs": [],
   "source": []
  }
 ],
 "metadata": {
  "kernelspec": {
   "display_name": "Python 2",
   "language": "python",
   "name": "python2"
  },
  "language_info": {
   "codemirror_mode": {
    "name": "ipython",
    "version": 2
   },
   "file_extension": ".py",
   "mimetype": "text/x-python",
   "name": "python",
   "nbconvert_exporter": "python",
   "pygments_lexer": "ipython2",
   "version": "2.7.15"
  }
 },
 "nbformat": 4,
 "nbformat_minor": 2
}
