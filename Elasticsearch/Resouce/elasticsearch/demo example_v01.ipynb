{
 "cells": [
  {
   "cell_type": "code",
   "execution_count": 302,
   "metadata": {},
   "outputs": [],
   "source": [
    "# import necessary library for view directory\n",
    "import os\n",
    "import sys"
   ]
  },
  {
   "cell_type": "code",
   "execution_count": 307,
   "metadata": {},
   "outputs": [],
   "source": [
    "cur_path = './'\n",
    "parent_path = '../'"
   ]
  },
  {
   "cell_type": "code",
   "execution_count": 308,
   "metadata": {},
   "outputs": [
    {
     "data": {
      "text/plain": [
       "['VOD_Metadata.csv', 'VOD.tar.gz', 'VOD']"
      ]
     },
     "execution_count": 308,
     "metadata": {},
     "output_type": "execute_result"
    }
   ],
   "source": [
    "os.listdir(cur_path)"
   ]
  },
  {
   "cell_type": "code",
   "execution_count": 6,
   "metadata": {},
   "outputs": [
    {
     "data": {
      "text/plain": [
       "['elasticsearch']"
      ]
     },
     "execution_count": 6,
     "metadata": {},
     "output_type": "execute_result"
    }
   ],
   "source": [
    "os.listdir(parent_path)"
   ]
  },
  {
   "cell_type": "code",
   "execution_count": 7,
   "metadata": {},
   "outputs": [
    {
     "data": {
      "text/plain": [
       "['document', 'resource', 'data']"
      ]
     },
     "execution_count": 7,
     "metadata": {},
     "output_type": "execute_result"
    }
   ],
   "source": [
    "os.listdir(parent_path*2)"
   ]
  },
  {
   "cell_type": "code",
   "execution_count": 8,
   "metadata": {},
   "outputs": [],
   "source": [
    "data_dir_path = parent_path * 2 + 'data/'"
   ]
  },
  {
   "cell_type": "code",
   "execution_count": 9,
   "metadata": {},
   "outputs": [
    {
     "data": {
      "text/plain": [
       "['elasticsearch']"
      ]
     },
     "execution_count": 9,
     "metadata": {},
     "output_type": "execute_result"
    }
   ],
   "source": [
    "os.listdir(data_dir_path)"
   ]
  },
  {
   "cell_type": "code",
   "execution_count": 10,
   "metadata": {},
   "outputs": [
    {
     "data": {
      "text/plain": [
       "['VOD_Metadata.csv']"
      ]
     },
     "execution_count": 10,
     "metadata": {},
     "output_type": "execute_result"
    }
   ],
   "source": [
    "os.listdir(data_dir_path + 'elasticsearch/')"
   ]
  },
  {
   "cell_type": "code",
   "execution_count": 11,
   "metadata": {},
   "outputs": [],
   "source": [
    "data_path = data_dir_path + 'elasticsearch/' + 'VOD_Metadata.csv'"
   ]
  },
  {
   "cell_type": "code",
   "execution_count": 4,
   "metadata": {},
   "outputs": [],
   "source": [
    "# import library for handle file .csv and manipulate data\n",
    "import pandas as pd\n",
    "import csv\n",
    "import json"
   ]
  },
  {
   "cell_type": "code",
   "execution_count": 18,
   "metadata": {},
   "outputs": [],
   "source": [
    "??pd.read_csv()"
   ]
  },
  {
   "cell_type": "code",
   "execution_count": 310,
   "metadata": {},
   "outputs": [],
   "source": [
    "# load data\n",
    "df = pd.read_csv(filepath_or_buffer=data_path)"
   ]
  },
  {
   "cell_type": "code",
   "execution_count": 311,
   "metadata": {},
   "outputs": [
    {
     "name": "stdout",
     "output_type": "stream",
     "text": [
      "<class 'pandas.core.frame.DataFrame'>\n",
      "RangeIndex: 9963 entries, 0 to 9962\n",
      "Data columns (total 22 columns):\n",
      "id               9963 non-null int64\n",
      "Title            9963 non-null object\n",
      "TitleEN          9963 non-null object\n",
      "TitleSearch      9963 non-null object\n",
      "TitleVN          9963 non-null object\n",
      "TopTitle         9963 non-null object\n",
      "State            9963 non-null int64\n",
      "Status           9963 non-null int64\n",
      "Image            9963 non-null object\n",
      "Actors           9806 non-null object\n",
      "Directors        9690 non-null object\n",
      "ShowTimeMovie    9963 non-null object\n",
      "Lead             9959 non-null object\n",
      "LocalType        9963 non-null int64\n",
      "Release          9963 non-null int64\n",
      "AppID            9963 non-null int64\n",
      "Folder           9963 non-null int64\n",
      "ListOnfolder     9963 non-null object\n",
      "EndTimeMovie     9963 non-null object\n",
      "MPA              9963 non-null object\n",
      "Producers        9655 non-null object\n",
      "Parental         9963 non-null int64\n",
      "dtypes: int64(8), object(14)\n",
      "memory usage: 1.7+ MB\n"
     ]
    }
   ],
   "source": [
    "# funny -> below section we can try to practice\n",
    "# this job for merry, let's enjoy.\n",
    "# csv_data.head()\n",
    "df.info()"
   ]
  },
  {
   "cell_type": "code",
   "execution_count": 17,
   "metadata": {},
   "outputs": [
    {
     "data": {
      "text/plain": [
       "(9963, 22)"
      ]
     },
     "execution_count": 17,
     "metadata": {},
     "output_type": "execute_result"
    }
   ],
   "source": [
    "df.shape"
   ]
  },
  {
   "cell_type": "code",
   "execution_count": 18,
   "metadata": {},
   "outputs": [
    {
     "data": {
      "text/plain": [
       "(2978, 22)"
      ]
     },
     "execution_count": 18,
     "metadata": {},
     "output_type": "execute_result"
    }
   ],
   "source": [
    "df[df.State==5].shape"
   ]
  },
  {
   "cell_type": "code",
   "execution_count": 19,
   "metadata": {},
   "outputs": [
    {
     "data": {
      "text/plain": [
       "['Actors', 'Directors', 'Lead', 'Producers']"
      ]
     },
     "execution_count": 19,
     "metadata": {},
     "output_type": "execute_result"
    }
   ],
   "source": [
    "# view fields/ columns have null/nan value\n",
    "df.columns[df.isna().any()].tolist()"
   ]
  },
  {
   "cell_type": "code",
   "execution_count": 340,
   "metadata": {},
   "outputs": [
    {
     "name": "stdout",
     "output_type": "stream",
     "text": [
      "<class 'pandas.core.frame.DataFrame'>\n"
     ]
    },
    {
     "data": {
      "text/html": [
       "<div>\n",
       "<style scoped>\n",
       "    .dataframe tbody tr th:only-of-type {\n",
       "        vertical-align: middle;\n",
       "    }\n",
       "\n",
       "    .dataframe tbody tr th {\n",
       "        vertical-align: top;\n",
       "    }\n",
       "\n",
       "    .dataframe thead th {\n",
       "        text-align: right;\n",
       "    }\n",
       "</style>\n",
       "<table border=\"1\" class=\"dataframe\">\n",
       "  <thead>\n",
       "    <tr style=\"text-align: right;\">\n",
       "      <th></th>\n",
       "      <th>id</th>\n",
       "      <th>Title</th>\n",
       "      <th>TitleEN</th>\n",
       "      <th>TitleSearch</th>\n",
       "      <th>TitleVN</th>\n",
       "      <th>TopTitle</th>\n",
       "      <th>State</th>\n",
       "      <th>Status</th>\n",
       "      <th>Image</th>\n",
       "      <th>Actors</th>\n",
       "      <th>...</th>\n",
       "      <th>Lead</th>\n",
       "      <th>LocalType</th>\n",
       "      <th>Release</th>\n",
       "      <th>AppID</th>\n",
       "      <th>Folder</th>\n",
       "      <th>ListOnfolder</th>\n",
       "      <th>EndTimeMovie</th>\n",
       "      <th>MPA</th>\n",
       "      <th>Producers</th>\n",
       "      <th>Parental</th>\n",
       "    </tr>\n",
       "  </thead>\n",
       "  <tbody>\n",
       "    <tr>\n",
       "      <th>9479</th>\n",
       "      <td>100067433</td>\n",
       "      <td>Test profile 4K (Test profile 4K)</td>\n",
       "      <td>Test profile 4K</td>\n",
       "      <td>Test profile 4K (Test profile 4K)</td>\n",
       "      <td>Test profile 4K</td>\n",
       "      <td>FullHD 1080</td>\n",
       "      <td>4</td>\n",
       "      <td>0</td>\n",
       "      <td>http://fboximages.fptplay.net.vn/VOD/FullHD/20...</td>\n",
       "      <td>NaN</td>\n",
       "      <td>...</td>\n",
       "      <td>NaN</td>\n",
       "      <td>1</td>\n",
       "      <td>2018</td>\n",
       "      <td>21</td>\n",
       "      <td>509</td>\n",
       "      <td>509,19</td>\n",
       "      <td>2100-01-01 00:00:00.000</td>\n",
       "      <td>R</td>\n",
       "      <td>NaN</td>\n",
       "      <td>16</td>\n",
       "    </tr>\n",
       "    <tr>\n",
       "      <th>9508</th>\n",
       "      <td>100067495</td>\n",
       "      <td>Test 4K Samsung (Test 4K Samsung)</td>\n",
       "      <td>Test 4K Samsung</td>\n",
       "      <td>Test 4K Samsung (Test 4K Samsung)</td>\n",
       "      <td>Test 4K Samsung</td>\n",
       "      <td>FullHD 1080</td>\n",
       "      <td>4</td>\n",
       "      <td>0</td>\n",
       "      <td>http://fboximages.fptplay.net.vn/VOD/FullHD/20...</td>\n",
       "      <td>NaN</td>\n",
       "      <td>...</td>\n",
       "      <td>NaN</td>\n",
       "      <td>1</td>\n",
       "      <td>2018</td>\n",
       "      <td>21</td>\n",
       "      <td>509</td>\n",
       "      <td>509,19</td>\n",
       "      <td>2100-01-01 00:00:00.000</td>\n",
       "      <td>G</td>\n",
       "      <td>NaN</td>\n",
       "      <td>0</td>\n",
       "    </tr>\n",
       "    <tr>\n",
       "      <th>9509</th>\n",
       "      <td>100067496</td>\n",
       "      <td>Test 4K Sony (Test 4K Sony)</td>\n",
       "      <td>Test 4K Sony</td>\n",
       "      <td>Test 4K Sony (Test 4K Sony)</td>\n",
       "      <td>Test 4K Sony</td>\n",
       "      <td>FullHD 1080</td>\n",
       "      <td>4</td>\n",
       "      <td>0</td>\n",
       "      <td>http://fboximages.fptplay.net.vn/VOD/FullHD/20...</td>\n",
       "      <td>NaN</td>\n",
       "      <td>...</td>\n",
       "      <td>NaN</td>\n",
       "      <td>1</td>\n",
       "      <td>2018</td>\n",
       "      <td>21</td>\n",
       "      <td>509</td>\n",
       "      <td>509,19</td>\n",
       "      <td>2100-01-01 00:00:00.000</td>\n",
       "      <td>G</td>\n",
       "      <td>NaN</td>\n",
       "      <td>0</td>\n",
       "    </tr>\n",
       "    <tr>\n",
       "      <th>9510</th>\n",
       "      <td>100067497</td>\n",
       "      <td>Test 4K LG (Test 4K LG)</td>\n",
       "      <td>Test 4K LG</td>\n",
       "      <td>Test 4K LG (Test 4K LG)</td>\n",
       "      <td>Test 4K LG</td>\n",
       "      <td>FullHD 1080</td>\n",
       "      <td>4</td>\n",
       "      <td>0</td>\n",
       "      <td>http://fboximages.fptplay.net.vn/VOD/FullHD/20...</td>\n",
       "      <td>NaN</td>\n",
       "      <td>...</td>\n",
       "      <td>NaN</td>\n",
       "      <td>1</td>\n",
       "      <td>2018</td>\n",
       "      <td>21</td>\n",
       "      <td>509</td>\n",
       "      <td>509,19</td>\n",
       "      <td>2100-01-01 00:00:00.000</td>\n",
       "      <td>G</td>\n",
       "      <td>NaN</td>\n",
       "      <td>0</td>\n",
       "    </tr>\n",
       "  </tbody>\n",
       "</table>\n",
       "<p>4 rows × 22 columns</p>\n",
       "</div>"
      ],
      "text/plain": [
       "             id                              Title          TitleEN  \\\n",
       "9479  100067433  Test profile 4K (Test profile 4K)  Test profile 4K   \n",
       "9508  100067495  Test 4K Samsung (Test 4K Samsung)  Test 4K Samsung   \n",
       "9509  100067496        Test 4K Sony (Test 4K Sony)     Test 4K Sony   \n",
       "9510  100067497            Test 4K LG (Test 4K LG)       Test 4K LG   \n",
       "\n",
       "                            TitleSearch          TitleVN     TopTitle  State  \\\n",
       "9479  Test profile 4K (Test profile 4K)  Test profile 4K  FullHD 1080      4   \n",
       "9508  Test 4K Samsung (Test 4K Samsung)  Test 4K Samsung  FullHD 1080      4   \n",
       "9509        Test 4K Sony (Test 4K Sony)     Test 4K Sony  FullHD 1080      4   \n",
       "9510            Test 4K LG (Test 4K LG)       Test 4K LG  FullHD 1080      4   \n",
       "\n",
       "      Status                                              Image Actors  \\\n",
       "9479       0  http://fboximages.fptplay.net.vn/VOD/FullHD/20...    NaN   \n",
       "9508       0  http://fboximages.fptplay.net.vn/VOD/FullHD/20...    NaN   \n",
       "9509       0  http://fboximages.fptplay.net.vn/VOD/FullHD/20...    NaN   \n",
       "9510       0  http://fboximages.fptplay.net.vn/VOD/FullHD/20...    NaN   \n",
       "\n",
       "       ...    Lead LocalType Release  AppID  Folder  ListOnfolder  \\\n",
       "9479   ...     NaN         1    2018     21     509        509,19   \n",
       "9508   ...     NaN         1    2018     21     509        509,19   \n",
       "9509   ...     NaN         1    2018     21     509        509,19   \n",
       "9510   ...     NaN         1    2018     21     509        509,19   \n",
       "\n",
       "                 EndTimeMovie MPA Producers Parental  \n",
       "9479  2100-01-01 00:00:00.000   R       NaN       16  \n",
       "9508  2100-01-01 00:00:00.000   G       NaN        0  \n",
       "9509  2100-01-01 00:00:00.000   G       NaN        0  \n",
       "9510  2100-01-01 00:00:00.000   G       NaN        0  \n",
       "\n",
       "[4 rows x 22 columns]"
      ]
     },
     "execution_count": 340,
     "metadata": {},
     "output_type": "execute_result"
    }
   ],
   "source": [
    "# get/view records have null/nan value in Lead column\n",
    "data_nan_lead = df.loc[df.Lead.isnull(), :]\n",
    "print(type(data_nan_lead))\n",
    "data_nan_lead"
   ]
  },
  {
   "cell_type": "code",
   "execution_count": null,
   "metadata": {},
   "outputs": [],
   "source": [
    "??df.to_json()"
   ]
  },
  {
   "cell_type": "code",
   "execution_count": 21,
   "metadata": {},
   "outputs": [],
   "source": [
    "# convert data_nan_lead to json format with record type -> result type : string\n",
    "str_lines_json_nan_lead = data_nan_lead.to_json(orient='records', lines=True)"
   ]
  },
  {
   "cell_type": "code",
   "execution_count": 22,
   "metadata": {},
   "outputs": [
    {
     "name": "stdout",
     "output_type": "stream",
     "text": [
      "<type 'unicode'>\n",
      "{\"id\":100067433,\"Title\":\"Test profile 4K (Test profile 4K)\",\"TitleEN\":\"Test profile 4K\",\"TitleSearch\":\"Test profile 4K (Test profile 4K)\",\"TitleVN\":\"Test profile 4K\",\"TopTitle\":\"FullHD 1080\",\"State\":4,\"Status\":0,\"Image\":\"http:\\/\\/fboximages.fptplay.net.vn\\/VOD\\/FullHD\\/2018\\/07\\/Testprofile4K_2018_USA_B_10T\\/Testprofile4K_2018_USA_B_10T_S.jpg\",\"Actors\":null,\"Directors\":null,\"ShowTimeMovie\":\"2019-01-01 00:00:00.000\",\"Lead\":null,\"LocalType\":1,\"Release\":2018,\"AppID\":21,\"Folder\":509,\"ListOnfolder\":\"509,19\",\"EndTimeMovie\":\"2100-01-01 00:00:00.000\",\"MPA\":\"R\",\"Producers\":null,\"Parental\":16}\n",
      "{\"id\":100067495,\"Title\":\"Test 4K Samsung (Test 4K Samsung)\",\"TitleEN\":\"Test 4K Samsung\",\"TitleSearch\":\"Test 4K Samsung (Test 4K Samsung)\",\"TitleVN\":\"Test 4K Samsung\",\"TopTitle\":\"FullHD 1080\",\"State\":4,\"Status\":0,\"Image\":\"http:\\/\\/fboximages.fptplay.net.vn\\/VOD\\/FullHD\\/2018\\/07\\/Test4KSamsung_2018_USA_B_5T\\/Test4KSamsung_2018_USA_B_5T_S.jpg\",\"Actors\":null,\"Directors\":null,\"ShowTimeMovie\":\"2019-07-20 00:00:00.000\",\"Lead\":null,\"LocalType\":1,\"Release\":2018,\"AppID\":21,\"Folder\":509,\"ListOnfolder\":\"509,19\",\"EndTimeMovie\":\"2100-01-01 00:00:00.000\",\"MPA\":\"G\",\"Producers\":null,\"Parental\":0}\n",
      "{\"id\":100067496,\"Title\":\"Test 4K Sony (Test 4K Sony)\",\"TitleEN\":\"Test 4K Sony\",\"TitleSearch\":\"Test 4K Sony (Test 4K Sony)\",\"TitleVN\":\"Test 4K Sony\",\"TopTitle\":\"FullHD 1080\",\"State\":4,\"Status\":0,\"Image\":\"http:\\/\\/fboximages.fptplay.net.vn\\/VOD\\/FullHD\\/2018\\/07\\/Test4KSony_2018_USA_B_5T\\/Test4KSony_2018_USA_B_5T_S.jpg\",\"Actors\":null,\"Directors\":null,\"ShowTimeMovie\":\"2019-07-20 00:00:00.000\",\"Lead\":null,\"LocalType\":1,\"Release\":2018,\"AppID\":21,\"Folder\":509,\"ListOnfolder\":\"509,19\",\"EndTimeMovie\":\"2100-01-01 00:00:00.000\",\"MPA\":\"G\",\"Producers\":null,\"Parental\":0}\n",
      "{\"id\":100067497,\"Title\":\"Test 4K LG (Test 4K LG)\",\"TitleEN\":\"Test 4K LG\",\"TitleSearch\":\"Test 4K LG (Test 4K LG)\",\"TitleVN\":\"Test 4K LG\",\"TopTitle\":\"FullHD 1080\",\"State\":4,\"Status\":0,\"Image\":\"http:\\/\\/fboximages.fptplay.net.vn\\/VOD\\/FullHD\\/2018\\/07\\/Test4KLG_2018_USA_B_5T\\/Test4KLG_2018_USA_B_5T_S.jpg\",\"Actors\":null,\"Directors\":null,\"ShowTimeMovie\":\"2019-07-20 00:00:00.000\",\"Lead\":null,\"LocalType\":1,\"Release\":2018,\"AppID\":21,\"Folder\":509,\"ListOnfolder\":\"509,19\",\"EndTimeMovie\":\"2100-01-01 00:00:00.000\",\"MPA\":\"G\",\"Producers\":null,\"Parental\":0}\n"
     ]
    }
   ],
   "source": [
    "# view type of to_json method return\n",
    "print(type(str_lines_json_nan_lead))\n",
    "print(str_lines_json_nan_lead)"
   ]
  },
  {
   "cell_type": "code",
   "execution_count": 23,
   "metadata": {},
   "outputs": [],
   "source": [
    "# Because, in to_json method we used lines=True parameter\n",
    "# -> output to_json method is separate with '\\n'\n",
    "# --> we will split to get list jsons\n",
    "list_jsons_nan_lead = str_lines_json_nan_lead.splitlines()"
   ]
  },
  {
   "cell_type": "code",
   "execution_count": 24,
   "metadata": {},
   "outputs": [
    {
     "name": "stdout",
     "output_type": "stream",
     "text": [
      "<type 'list'>\n",
      "4\n"
     ]
    }
   ],
   "source": [
    "# represent type and len of list_jsons_nan_lead\n",
    "print(type(list_jsons_nan_lead))\n",
    "print(len(list_jsons_nan_lead))"
   ]
  },
  {
   "cell_type": "code",
   "execution_count": 25,
   "metadata": {},
   "outputs": [
    {
     "data": {
      "text/plain": [
       "u'{\"id\":100067433,\"Title\":\"Test profile 4K (Test profile 4K)\",\"TitleEN\":\"Test profile 4K\",\"TitleSearch\":\"Test profile 4K (Test profile 4K)\",\"TitleVN\":\"Test profile 4K\",\"TopTitle\":\"FullHD 1080\",\"State\":4,\"Status\":0,\"Image\":\"http:\\\\/\\\\/fboximages.fptplay.net.vn\\\\/VOD\\\\/FullHD\\\\/2018\\\\/07\\\\/Testprofile4K_2018_USA_B_10T\\\\/Testprofile4K_2018_USA_B_10T_S.jpg\",\"Actors\":null,\"Directors\":null,\"ShowTimeMovie\":\"2019-01-01 00:00:00.000\",\"Lead\":null,\"LocalType\":1,\"Release\":2018,\"AppID\":21,\"Folder\":509,\"ListOnfolder\":\"509,19\",\"EndTimeMovie\":\"2100-01-01 00:00:00.000\",\"MPA\":\"R\",\"Producers\":null,\"Parental\":16}'"
      ]
     },
     "execution_count": 25,
     "metadata": {},
     "output_type": "execute_result"
    }
   ],
   "source": [
    "# view the first element of list_jsons_nan_lead\n",
    "list_jsons_nan_lead[0]"
   ]
  },
  {
   "cell_type": "code",
   "execution_count": 26,
   "metadata": {},
   "outputs": [],
   "source": [
    "# convert json string to dictionary type in python\n",
    "# here, we used the first list_jsons_nan_lead\n",
    "# repectively, row 9479 (begin count = 0) in our data\n",
    "dict_nan_lead_row_9479 = json.loads(s=list_jsons_nan_lead[0])"
   ]
  },
  {
   "cell_type": "code",
   "execution_count": 27,
   "metadata": {},
   "outputs": [
    {
     "name": "stdout",
     "output_type": "stream",
     "text": [
      "<type 'dict'>\n"
     ]
    },
    {
     "data": {
      "text/plain": [
       "{u'Actors': None,\n",
       " u'AppID': 21,\n",
       " u'Directors': None,\n",
       " u'EndTimeMovie': u'2100-01-01 00:00:00.000',\n",
       " u'Folder': 509,\n",
       " u'Image': u'http://fboximages.fptplay.net.vn/VOD/FullHD/2018/07/Testprofile4K_2018_USA_B_10T/Testprofile4K_2018_USA_B_10T_S.jpg',\n",
       " u'Lead': None,\n",
       " u'ListOnfolder': u'509,19',\n",
       " u'LocalType': 1,\n",
       " u'MPA': u'R',\n",
       " u'Parental': 16,\n",
       " u'Producers': None,\n",
       " u'Release': 2018,\n",
       " u'ShowTimeMovie': u'2019-01-01 00:00:00.000',\n",
       " u'State': 4,\n",
       " u'Status': 0,\n",
       " u'Title': u'Test profile 4K (Test profile 4K)',\n",
       " u'TitleEN': u'Test profile 4K',\n",
       " u'TitleSearch': u'Test profile 4K (Test profile 4K)',\n",
       " u'TitleVN': u'Test profile 4K',\n",
       " u'TopTitle': u'FullHD 1080',\n",
       " u'id': 100067433}"
      ]
     },
     "execution_count": 27,
     "metadata": {},
     "output_type": "execute_result"
    }
   ],
   "source": [
    "# print row 9479 with typeof dictionary\n",
    "print(type(dict_nan_lead_row_9479))\n",
    "dict_nan_lead_row_9479"
   ]
  },
  {
   "cell_type": "code",
   "execution_count": 28,
   "metadata": {},
   "outputs": [
    {
     "name": "stdout",
     "output_type": "stream",
     "text": [
      "{\n",
      "    \"Actors\": null, \n",
      "    \"AppID\": 21, \n",
      "    \"Directors\": null, \n",
      "    \"EndTimeMovie\": \"2100-01-01 00:00:00.000\", \n",
      "    \"Folder\": 509, \n",
      "    \"Image\": \"http://fboximages.fptplay.net.vn/VOD/FullHD/2018/07/Testprofile4K_2018_USA_B_10T/Testprofile4K_2018_USA_B_10T_S.jpg\", \n",
      "    \"Lead\": null, \n",
      "    \"ListOnfolder\": \"509,19\", \n",
      "    \"LocalType\": 1, \n",
      "    \"MPA\": \"R\", \n",
      "    \"Parental\": 16, \n",
      "    \"Producers\": null, \n",
      "    \"Release\": 2018, \n",
      "    \"ShowTimeMovie\": \"2019-01-01 00:00:00.000\", \n",
      "    \"State\": 4, \n",
      "    \"Status\": 0, \n",
      "    \"Title\": \"Test profile 4K (Test profile 4K)\", \n",
      "    \"TitleEN\": \"Test profile 4K\", \n",
      "    \"TitleSearch\": \"Test profile 4K (Test profile 4K)\", \n",
      "    \"TitleVN\": \"Test profile 4K\", \n",
      "    \"TopTitle\": \"FullHD 1080\", \n",
      "    \"id\": 100067433\n",
      "}\n"
     ]
    }
   ],
   "source": [
    "# print this dictionary with format json, using dumps funtion in jsons module\n",
    "# pretty view\n",
    "print(json.dumps(obj=dict_nan_lead_row_9479, indent=4, sort_keys=True))"
   ]
  },
  {
   "cell_type": "code",
   "execution_count": 27,
   "metadata": {},
   "outputs": [
    {
     "data": {
      "text/plain": [
       "id                                                       100067433\n",
       "Title                            Test profile 4K (Test profile 4K)\n",
       "TitleEN                                            Test profile 4K\n",
       "TitleSearch                      Test profile 4K (Test profile 4K)\n",
       "TitleVN                                            Test profile 4K\n",
       "TopTitle                                               FullHD 1080\n",
       "State                                                            4\n",
       "Status                                                           0\n",
       "Image            http://fboximages.fptplay.net.vn/VOD/FullHD/20...\n",
       "Actors                                                         NaN\n",
       "Directors                                                      NaN\n",
       "ShowTimeMovie                              2019-01-01 00:00:00.000\n",
       "Lead                                                           NaN\n",
       "LocalType                                                        1\n",
       "Release                                                       2018\n",
       "AppID                                                           21\n",
       "Folder                                                         509\n",
       "ListOnfolder                                                509,19\n",
       "EndTimeMovie                               2100-01-01 00:00:00.000\n",
       "MPA                                                              R\n",
       "Producers                                                      NaN\n",
       "Parental                                                        16\n",
       "Name: 9479, dtype: object"
      ]
     },
     "execution_count": 27,
     "metadata": {},
     "output_type": "execute_result"
    }
   ],
   "source": [
    "# view row 9479 in dataframe\n",
    "df.loc[9479]"
   ]
  },
  {
   "cell_type": "code",
   "execution_count": 28,
   "metadata": {},
   "outputs": [
    {
     "name": "stdout",
     "output_type": "stream",
     "text": [
      "None\n"
     ]
    },
    {
     "data": {
      "text/plain": [
       "u'2100-01-01 00:00:00.000'"
      ]
     },
     "execution_count": 28,
     "metadata": {},
     "output_type": "execute_result"
    }
   ],
   "source": [
    "# view some of fields in row 9479th+1\n",
    "print(dict_nan_lead_row_9479['Lead'])\n",
    "dict_nan_lead_row_9479.get('EndTimeMovie')"
   ]
  },
  {
   "cell_type": "code",
   "execution_count": 91,
   "metadata": {},
   "outputs": [],
   "source": [
    "# convert list_jsons_nan_lead to type dict, \n",
    "# \n",
    "list_dict_nan_lead = [json.loads(json_nan_lead) for json_nan_lead in list_jsons_nan_lead]"
   ]
  },
  {
   "cell_type": "code",
   "execution_count": 93,
   "metadata": {},
   "outputs": [
    {
     "data": {
      "text/plain": [
       "{u'Actors': None,\n",
       " u'AppID': 21,\n",
       " u'Directors': None,\n",
       " u'EndTimeMovie': u'2100-01-01 00:00:00.000',\n",
       " u'Folder': 509,\n",
       " u'Image': u'http://fboximages.fptplay.net.vn/VOD/FullHD/2018/07/Testprofile4K_2018_USA_B_10T/Testprofile4K_2018_USA_B_10T_S.jpg',\n",
       " u'Lead': None,\n",
       " u'ListOnfolder': u'509,19',\n",
       " u'LocalType': 1,\n",
       " u'MPA': u'R',\n",
       " u'Parental': 16,\n",
       " u'Producers': None,\n",
       " u'Release': 2018,\n",
       " u'ShowTimeMovie': u'2019-01-01 00:00:00.000',\n",
       " u'State': 4,\n",
       " u'Status': 0,\n",
       " u'Title': u'Test profile 4K (Test profile 4K)',\n",
       " u'TitleEN': u'Test profile 4K',\n",
       " u'TitleSearch': u'Test profile 4K (Test profile 4K)',\n",
       " u'TitleVN': u'Test profile 4K',\n",
       " u'TopTitle': u'FullHD 1080',\n",
       " u'id': 100067433}"
      ]
     },
     "execution_count": 93,
     "metadata": {},
     "output_type": "execute_result"
    }
   ],
   "source": [
    "list_dict_nan_lead[0]"
   ]
  },
  {
   "cell_type": "markdown",
   "metadata": {},
   "source": [
    "## Time to test with elasticsearch\n",
    "\n",
    "**Here we can using pyelasticsearch to manipulate with our data.**\n",
    "\n",
    "1. How to index dict_nan_lead_row_9497 to elasticsearch\n",
    "2. How to index list_dict_nan_lead to elasticsearch\n",
    "3. Search document with TitleSearch field\n",
    "4. Try to filter and search query other\n",
    "5. Sumary"
   ]
  },
  {
   "cell_type": "code",
   "execution_count": 12,
   "metadata": {},
   "outputs": [],
   "source": [
    "# import ElasticSearch class from pyelasticsearch module\n",
    "from pyelasticsearch import ElasticSearch"
   ]
  },
  {
   "cell_type": "code",
   "execution_count": 13,
   "metadata": {},
   "outputs": [],
   "source": [
    "# Setting connection\n",
    "_urls = \"http://localhost\"\n",
    "_port = \"9200\"\n",
    "pyels = ElasticSearch(urls=_urls, port=_port)"
   ]
  },
  {
   "cell_type": "code",
   "execution_count": 98,
   "metadata": {},
   "outputs": [
    {
     "name": "stdout",
     "output_type": "stream",
     "text": [
      "health status index      uuid                   pri rep docs.count docs.deleted store.size pri.store.size\n",
      "yellow open   movie      984IaLnNRua-M0Eshk1FLA   5   1          4            0     24.7kb         24.7kb\n",
      "yellow open   movie_test i3t36EXMQvaoX88zKoRx1A   5   1          1            0     11.9kb         11.9kb\n",
      "\n"
     ]
    }
   ],
   "source": [
    "# view index in our elasticsearch\n",
    "list_index = pyels.send_request(method='GET', path_components=['_cat', 'indices'], query_params={'v':'true', 's':'index'})\n",
    "print(list_index)"
   ]
  },
  {
   "cell_type": "code",
   "execution_count": 40,
   "metadata": {},
   "outputs": [],
   "source": [
    "# copy to temp variable, to use pop in dict\n",
    "temp = dict_nan_lead_row_9479.copy()"
   ]
  },
  {
   "cell_type": "code",
   "execution_count": 41,
   "metadata": {},
   "outputs": [
    {
     "name": "stdout",
     "output_type": "stream",
     "text": [
      "{\n",
      "    \"_type\": \"VOD\", \n",
      "    \"_shards\": {\n",
      "        \"successful\": 1, \n",
      "        \"failed\": 0, \n",
      "        \"total\": 2\n",
      "    }, \n",
      "    \"_index\": \"movie_test0\", \n",
      "    \"_version\": 1, \n",
      "    \"created\": true, \n",
      "    \"result\": \"created\", \n",
      "    \"_id\": \"100067433\"\n",
      "}\n"
     ]
    }
   ],
   "source": [
    "index dict_nan_lead_row_9479 to elasticsearch\n",
    "respond = pyels.index(index='movie_test0', doc_type='VOD', doc=temp, id=temp.pop('id'))\n",
    "print(json.dumps(obj=respond, indent=4))\n",
    "del temp"
   ]
  },
  {
   "cell_type": "code",
   "execution_count": 36,
   "metadata": {},
   "outputs": [
    {
     "data": {
      "text/plain": [
       "dict"
      ]
     },
     "execution_count": 36,
     "metadata": {},
     "output_type": "execute_result"
    }
   ],
   "source": [
    "# view type of respond\n",
    "type(respond)"
   ]
  },
  {
   "cell_type": "code",
   "execution_count": 47,
   "metadata": {},
   "outputs": [
    {
     "name": "stdout",
     "output_type": "stream",
     "text": [
      "{\n",
      "    \"state_uuid\": \"hysol_1RTD2wz_AKI0c6Og\", \n",
      "    \"routing_table\": {\n",
      "        \"indices\": {\n",
      "            \"movie_test\": {\n",
      "                \"shards\": {\n",
      "                    \"1\": [\n",
      "                        {\n",
      "                            \"node\": \"JqzKJFoASO6ck6_hUqn0Zg\", \n",
      "                            \"index\": \"movie_test\", \n",
      "                            \"allocation_id\": {\n",
      "                                \"id\": \"rpM4iDrjSqaSwekWBDcCsA\"\n",
      "                            }, \n",
      "                            \"primary\": true, \n",
      "                            \"shard\": 1, \n",
      "                            \"state\": \"STARTED\", \n",
      "                            \"relocating_node\": null\n",
      "                        }, \n",
      "                        {\n",
      "                            \"node\": null, \n",
      "                            \"index\": \"movie_test\", \n",
      "                            \"primary\": false, \n",
      "                            \"shard\": 1, \n",
      "                            \"recovery_source\": {\n",
      "                                \"type\": \"PEER\"\n",
      "                            }, \n",
      "                            \"state\": \"UNASSIGNED\", \n",
      "                            \"relocating_node\": null, \n",
      "                            \"unassigned_info\": {\n",
      "                                \"reason\": \"CLUSTER_RECOVERED\", \n",
      "                                \"at\": \"2018-12-13T01:02:10.880Z\", \n",
      "                                \"allocation_status\": \"no_attempt\", \n",
      "                                \"delayed\": false\n",
      "                            }\n",
      "                        }\n",
      "                    ], \n",
      "                    \"0\": [\n",
      "                        {\n",
      "                            \"node\": \"JqzKJFoASO6ck6_hUqn0Zg\", \n",
      "                            \"index\": \"movie_test\", \n",
      "                            \"allocation_id\": {\n",
      "                                \"id\": \"FQy4SxAdS3-QncQQIg-WAA\"\n",
      "                            }, \n",
      "                            \"primary\": true, \n",
      "                            \"shard\": 0, \n",
      "                            \"state\": \"STARTED\", \n",
      "                            \"relocating_node\": null\n",
      "                        }, \n",
      "                        {\n",
      "                            \"node\": null, \n",
      "                            \"index\": \"movie_test\", \n",
      "                            \"primary\": false, \n",
      "                            \"shard\": 0, \n",
      "                            \"recovery_source\": {\n",
      "                                \"type\": \"PEER\"\n",
      "                            }, \n",
      "                            \"state\": \"UNASSIGNED\", \n",
      "                            \"relocating_node\": null, \n",
      "                            \"unassigned_info\": {\n",
      "                                \"reason\": \"CLUSTER_RECOVERED\", \n",
      "                                \"at\": \"2018-12-13T01:02:10.880Z\", \n",
      "                                \"allocation_status\": \"no_attempt\", \n",
      "                                \"delayed\": false\n",
      "                            }\n",
      "                        }\n",
      "                    ], \n",
      "                    \"3\": [\n",
      "                        {\n",
      "                            \"node\": \"JqzKJFoASO6ck6_hUqn0Zg\", \n",
      "                            \"index\": \"movie_test\", \n",
      "                            \"allocation_id\": {\n",
      "                                \"id\": \"5Kt76O63STWAYCMzA-zipQ\"\n",
      "                            }, \n",
      "                            \"primary\": true, \n",
      "                            \"shard\": 3, \n",
      "                            \"state\": \"STARTED\", \n",
      "                            \"relocating_node\": null\n",
      "                        }, \n",
      "                        {\n",
      "                            \"node\": null, \n",
      "                            \"index\": \"movie_test\", \n",
      "                            \"primary\": false, \n",
      "                            \"shard\": 3, \n",
      "                            \"recovery_source\": {\n",
      "                                \"type\": \"PEER\"\n",
      "                            }, \n",
      "                            \"state\": \"UNASSIGNED\", \n",
      "                            \"relocating_node\": null, \n",
      "                            \"unassigned_info\": {\n",
      "                                \"reason\": \"CLUSTER_RECOVERED\", \n",
      "                                \"at\": \"2018-12-13T01:02:10.880Z\", \n",
      "                                \"allocation_status\": \"no_attempt\", \n",
      "                                \"delayed\": false\n",
      "                            }\n",
      "                        }\n",
      "                    ], \n",
      "                    \"2\": [\n",
      "                        {\n",
      "                            \"node\": \"JqzKJFoASO6ck6_hUqn0Zg\", \n",
      "                            \"index\": \"movie_test\", \n",
      "                            \"allocation_id\": {\n",
      "                                \"id\": \"XLOgK7GDTHGugIg3onUArg\"\n",
      "                            }, \n",
      "                            \"primary\": true, \n",
      "                            \"shard\": 2, \n",
      "                            \"state\": \"STARTED\", \n",
      "                            \"relocating_node\": null\n",
      "                        }, \n",
      "                        {\n",
      "                            \"node\": null, \n",
      "                            \"index\": \"movie_test\", \n",
      "                            \"primary\": false, \n",
      "                            \"shard\": 2, \n",
      "                            \"recovery_source\": {\n",
      "                                \"type\": \"PEER\"\n",
      "                            }, \n",
      "                            \"state\": \"UNASSIGNED\", \n",
      "                            \"relocating_node\": null, \n",
      "                            \"unassigned_info\": {\n",
      "                                \"reason\": \"CLUSTER_RECOVERED\", \n",
      "                                \"at\": \"2018-12-13T01:02:10.880Z\", \n",
      "                                \"allocation_status\": \"no_attempt\", \n",
      "                                \"delayed\": false\n",
      "                            }\n",
      "                        }\n",
      "                    ], \n",
      "                    \"4\": [\n",
      "                        {\n",
      "                            \"node\": \"JqzKJFoASO6ck6_hUqn0Zg\", \n",
      "                            \"index\": \"movie_test\", \n",
      "                            \"allocation_id\": {\n",
      "                                \"id\": \"mqI7SlUFRg2w5Rz3SWSAzQ\"\n",
      "                            }, \n",
      "                            \"primary\": true, \n",
      "                            \"shard\": 4, \n",
      "                            \"state\": \"STARTED\", \n",
      "                            \"relocating_node\": null\n",
      "                        }, \n",
      "                        {\n",
      "                            \"node\": null, \n",
      "                            \"index\": \"movie_test\", \n",
      "                            \"primary\": false, \n",
      "                            \"shard\": 4, \n",
      "                            \"recovery_source\": {\n",
      "                                \"type\": \"PEER\"\n",
      "                            }, \n",
      "                            \"state\": \"UNASSIGNED\", \n",
      "                            \"relocating_node\": null, \n",
      "                            \"unassigned_info\": {\n",
      "                                \"reason\": \"CLUSTER_RECOVERED\", \n",
      "                                \"at\": \"2018-12-13T01:02:10.880Z\", \n",
      "                                \"allocation_status\": \"no_attempt\", \n",
      "                                \"delayed\": false\n",
      "                            }\n",
      "                        }\n",
      "                    ]\n",
      "                }\n",
      "            }, \n",
      "            \"movie_test0\": {\n",
      "                \"shards\": {\n",
      "                    \"1\": [\n",
      "                        {\n",
      "                            \"node\": \"JqzKJFoASO6ck6_hUqn0Zg\", \n",
      "                            \"index\": \"movie_test0\", \n",
      "                            \"allocation_id\": {\n",
      "                                \"id\": \"WVZufQ5OSR2aKCBo_rCv1w\"\n",
      "                            }, \n",
      "                            \"primary\": true, \n",
      "                            \"shard\": 1, \n",
      "                            \"state\": \"STARTED\", \n",
      "                            \"relocating_node\": null\n",
      "                        }, \n",
      "                        {\n",
      "                            \"node\": null, \n",
      "                            \"index\": \"movie_test0\", \n",
      "                            \"primary\": false, \n",
      "                            \"shard\": 1, \n",
      "                            \"recovery_source\": {\n",
      "                                \"type\": \"PEER\"\n",
      "                            }, \n",
      "                            \"state\": \"UNASSIGNED\", \n",
      "                            \"relocating_node\": null, \n",
      "                            \"unassigned_info\": {\n",
      "                                \"reason\": \"INDEX_CREATED\", \n",
      "                                \"at\": \"2018-12-13T01:20:38.879Z\", \n",
      "                                \"allocation_status\": \"no_attempt\", \n",
      "                                \"delayed\": false\n",
      "                            }\n",
      "                        }\n",
      "                    ], \n",
      "                    \"0\": [\n",
      "                        {\n",
      "                            \"node\": \"JqzKJFoASO6ck6_hUqn0Zg\", \n",
      "                            \"index\": \"movie_test0\", \n",
      "                            \"allocation_id\": {\n",
      "                                \"id\": \"jkeiwh2PTHmJnhFLVW8BRQ\"\n",
      "                            }, \n",
      "                            \"primary\": true, \n",
      "                            \"shard\": 0, \n",
      "                            \"state\": \"STARTED\", \n",
      "                            \"relocating_node\": null\n",
      "                        }, \n",
      "                        {\n",
      "                            \"node\": null, \n",
      "                            \"index\": \"movie_test0\", \n",
      "                            \"primary\": false, \n",
      "                            \"shard\": 0, \n",
      "                            \"recovery_source\": {\n",
      "                                \"type\": \"PEER\"\n",
      "                            }, \n",
      "                            \"state\": \"UNASSIGNED\", \n",
      "                            \"relocating_node\": null, \n",
      "                            \"unassigned_info\": {\n",
      "                                \"reason\": \"INDEX_CREATED\", \n",
      "                                \"at\": \"2018-12-13T01:20:38.879Z\", \n",
      "                                \"allocation_status\": \"no_attempt\", \n",
      "                                \"delayed\": false\n",
      "                            }\n",
      "                        }\n",
      "                    ], \n",
      "                    \"3\": [\n",
      "                        {\n",
      "                            \"node\": \"JqzKJFoASO6ck6_hUqn0Zg\", \n",
      "                            \"index\": \"movie_test0\", \n",
      "                            \"allocation_id\": {\n",
      "                                \"id\": \"o59hj0jiSPq-E0doyEVKJw\"\n",
      "                            }, \n",
      "                            \"primary\": true, \n",
      "                            \"shard\": 3, \n",
      "                            \"state\": \"STARTED\", \n",
      "                            \"relocating_node\": null\n",
      "                        }, \n",
      "                        {\n",
      "                            \"node\": null, \n",
      "                            \"index\": \"movie_test0\", \n",
      "                            \"primary\": false, \n",
      "                            \"shard\": 3, \n",
      "                            \"recovery_source\": {\n",
      "                                \"type\": \"PEER\"\n",
      "                            }, \n",
      "                            \"state\": \"UNASSIGNED\", \n",
      "                            \"relocating_node\": null, \n",
      "                            \"unassigned_info\": {\n",
      "                                \"reason\": \"INDEX_CREATED\", \n",
      "                                \"at\": \"2018-12-13T01:20:38.879Z\", \n",
      "                                \"allocation_status\": \"no_attempt\", \n",
      "                                \"delayed\": false\n",
      "                            }\n",
      "                        }\n",
      "                    ], \n",
      "                    \"2\": [\n",
      "                        {\n",
      "                            \"node\": \"JqzKJFoASO6ck6_hUqn0Zg\", \n",
      "                            \"index\": \"movie_test0\", \n",
      "                            \"allocation_id\": {\n",
      "                                \"id\": \"IgELD2TvSECY1i1uigKyBg\"\n",
      "                            }, \n",
      "                            \"primary\": true, \n",
      "                            \"shard\": 2, \n",
      "                            \"state\": \"STARTED\", \n",
      "                            \"relocating_node\": null\n",
      "                        }, \n",
      "                        {\n",
      "                            \"node\": null, \n",
      "                            \"index\": \"movie_test0\", \n",
      "                            \"primary\": false, \n",
      "                            \"shard\": 2, \n",
      "                            \"recovery_source\": {\n",
      "                                \"type\": \"PEER\"\n",
      "                            }, \n",
      "                            \"state\": \"UNASSIGNED\", \n",
      "                            \"relocating_node\": null, \n",
      "                            \"unassigned_info\": {\n",
      "                                \"reason\": \"INDEX_CREATED\", \n",
      "                                \"at\": \"2018-12-13T01:20:38.879Z\", \n",
      "                                \"allocation_status\": \"no_attempt\", \n",
      "                                \"delayed\": false\n",
      "                            }\n",
      "                        }\n",
      "                    ], \n",
      "                    \"4\": [\n",
      "                        {\n",
      "                            \"node\": \"JqzKJFoASO6ck6_hUqn0Zg\", \n",
      "                            \"index\": \"movie_test0\", \n",
      "                            \"allocation_id\": {\n",
      "                                \"id\": \"fUMUWEpMTfWroDiDucibyQ\"\n",
      "                            }, \n",
      "                            \"primary\": true, \n",
      "                            \"shard\": 4, \n",
      "                            \"state\": \"STARTED\", \n",
      "                            \"relocating_node\": null\n",
      "                        }, \n",
      "                        {\n",
      "                            \"node\": null, \n",
      "                            \"index\": \"movie_test0\", \n",
      "                            \"primary\": false, \n",
      "                            \"shard\": 4, \n",
      "                            \"recovery_source\": {\n",
      "                                \"type\": \"PEER\"\n",
      "                            }, \n",
      "                            \"state\": \"UNASSIGNED\", \n",
      "                            \"relocating_node\": null, \n",
      "                            \"unassigned_info\": {\n",
      "                                \"reason\": \"INDEX_CREATED\", \n",
      "                                \"at\": \"2018-12-13T01:20:38.879Z\", \n",
      "                                \"allocation_status\": \"no_attempt\", \n",
      "                                \"delayed\": false\n",
      "                            }\n",
      "                        }\n",
      "                    ]\n",
      "                }\n",
      "            }, \n",
      "            \"movie_test1\": {\n",
      "                \"shards\": {\n",
      "                    \"1\": [\n",
      "                        {\n",
      "                            \"node\": \"JqzKJFoASO6ck6_hUqn0Zg\", \n",
      "                            \"index\": \"movie_test1\", \n",
      "                            \"allocation_id\": {\n",
      "                                \"id\": \"ABNhACsZQaKbQ7cj1yBRQw\"\n",
      "                            }, \n",
      "                            \"primary\": true, \n",
      "                            \"shard\": 1, \n",
      "                            \"state\": \"STARTED\", \n",
      "                            \"relocating_node\": null\n",
      "                        }, \n",
      "                        {\n",
      "                            \"node\": null, \n",
      "                            \"index\": \"movie_test1\", \n",
      "                            \"primary\": false, \n",
      "                            \"shard\": 1, \n",
      "                            \"recovery_source\": {\n",
      "                                \"type\": \"PEER\"\n",
      "                            }, \n",
      "                            \"state\": \"UNASSIGNED\", \n",
      "                            \"relocating_node\": null, \n",
      "                            \"unassigned_info\": {\n",
      "                                \"reason\": \"INDEX_CREATED\", \n",
      "                                \"at\": \"2018-12-13T01:17:57.027Z\", \n",
      "                                \"allocation_status\": \"no_attempt\", \n",
      "                                \"delayed\": false\n",
      "                            }\n",
      "                        }\n",
      "                    ], \n",
      "                    \"0\": [\n",
      "                        {\n",
      "                            \"node\": \"JqzKJFoASO6ck6_hUqn0Zg\", \n",
      "                            \"index\": \"movie_test1\", \n",
      "                            \"allocation_id\": {\n",
      "                                \"id\": \"EitVqek9T9eIRlaNqoGE2Q\"\n",
      "                            }, \n",
      "                            \"primary\": true, \n",
      "                            \"shard\": 0, \n",
      "                            \"state\": \"STARTED\", \n",
      "                            \"relocating_node\": null\n",
      "                        }, \n",
      "                        {\n",
      "                            \"node\": null, \n",
      "                            \"index\": \"movie_test1\", \n",
      "                            \"primary\": false, \n",
      "                            \"shard\": 0, \n",
      "                            \"recovery_source\": {\n",
      "                                \"type\": \"PEER\"\n",
      "                            }, \n",
      "                            \"state\": \"UNASSIGNED\", \n",
      "                            \"relocating_node\": null, \n",
      "                            \"unassigned_info\": {\n",
      "                                \"reason\": \"INDEX_CREATED\", \n",
      "                                \"at\": \"2018-12-13T01:17:57.027Z\", \n",
      "                                \"allocation_status\": \"no_attempt\", \n",
      "                                \"delayed\": false\n",
      "                            }\n",
      "                        }\n",
      "                    ], \n",
      "                    \"3\": [\n",
      "                        {\n",
      "                            \"node\": \"JqzKJFoASO6ck6_hUqn0Zg\", \n",
      "                            \"index\": \"movie_test1\", \n",
      "                            \"allocation_id\": {\n",
      "                                \"id\": \"ra8xRkVNRDmIJHMg_jlySQ\"\n",
      "                            }, \n",
      "                            \"primary\": true, \n",
      "                            \"shard\": 3, \n",
      "                            \"state\": \"STARTED\", \n",
      "                            \"relocating_node\": null\n",
      "                        }, \n",
      "                        {\n",
      "                            \"node\": null, \n",
      "                            \"index\": \"movie_test1\", \n",
      "                            \"primary\": false, \n",
      "                            \"shard\": 3, \n",
      "                            \"recovery_source\": {\n",
      "                                \"type\": \"PEER\"\n",
      "                            }, \n",
      "                            \"state\": \"UNASSIGNED\", \n",
      "                            \"relocating_node\": null, \n",
      "                            \"unassigned_info\": {\n",
      "                                \"reason\": \"INDEX_CREATED\", \n",
      "                                \"at\": \"2018-12-13T01:17:57.027Z\", \n",
      "                                \"allocation_status\": \"no_attempt\", \n",
      "                                \"delayed\": false\n",
      "                            }\n",
      "                        }\n",
      "                    ], \n",
      "                    \"2\": [\n",
      "                        {\n",
      "                            \"node\": \"JqzKJFoASO6ck6_hUqn0Zg\", \n",
      "                            \"index\": \"movie_test1\", \n",
      "                            \"allocation_id\": {\n",
      "                                \"id\": \"aljAisXmRMqhHnNjaWgzeg\"\n",
      "                            }, \n",
      "                            \"primary\": true, \n",
      "                            \"shard\": 2, \n",
      "                            \"state\": \"STARTED\", \n",
      "                            \"relocating_node\": null\n",
      "                        }, \n",
      "                        {\n",
      "                            \"node\": null, \n",
      "                            \"index\": \"movie_test1\", \n",
      "                            \"primary\": false, \n",
      "                            \"shard\": 2, \n",
      "                            \"recovery_source\": {\n",
      "                                \"type\": \"PEER\"\n",
      "                            }, \n",
      "                            \"state\": \"UNASSIGNED\", \n",
      "                            \"relocating_node\": null, \n",
      "                            \"unassigned_info\": {\n",
      "                                \"reason\": \"INDEX_CREATED\", \n",
      "                                \"at\": \"2018-12-13T01:17:57.027Z\", \n",
      "                                \"allocation_status\": \"no_attempt\", \n",
      "                                \"delayed\": false\n",
      "                            }\n",
      "                        }\n",
      "                    ], \n",
      "                    \"4\": [\n",
      "                        {\n",
      "                            \"node\": \"JqzKJFoASO6ck6_hUqn0Zg\", \n",
      "                            \"index\": \"movie_test1\", \n",
      "                            \"allocation_id\": {\n",
      "                                \"id\": \"dgTLIxc3SGWeNCd4QNl3Ww\"\n",
      "                            }, \n",
      "                            \"primary\": true, \n",
      "                            \"shard\": 4, \n",
      "                            \"state\": \"STARTED\", \n",
      "                            \"relocating_node\": null\n",
      "                        }, \n",
      "                        {\n",
      "                            \"node\": null, \n",
      "                            \"index\": \"movie_test1\", \n",
      "                            \"primary\": false, \n",
      "                            \"shard\": 4, \n",
      "                            \"recovery_source\": {\n",
      "                                \"type\": \"PEER\"\n",
      "                            }, \n",
      "                            \"state\": \"UNASSIGNED\", \n",
      "                            \"relocating_node\": null, \n",
      "                            \"unassigned_info\": {\n",
      "                                \"reason\": \"INDEX_CREATED\", \n",
      "                                \"at\": \"2018-12-13T01:17:57.027Z\", \n",
      "                                \"allocation_status\": \"no_attempt\", \n",
      "                                \"delayed\": false\n",
      "                            }\n",
      "                        }\n",
      "                    ]\n",
      "                }\n",
      "            }, \n",
      "            \"movie\": {\n",
      "                \"shards\": {\n",
      "                    \"1\": [\n",
      "                        {\n",
      "                            \"node\": \"JqzKJFoASO6ck6_hUqn0Zg\", \n",
      "                            \"index\": \"movie\", \n",
      "                            \"allocation_id\": {\n",
      "                                \"id\": \"R8Fy78YETviEqDNhmiwYfQ\"\n",
      "                            }, \n",
      "                            \"primary\": true, \n",
      "                            \"shard\": 1, \n",
      "                            \"state\": \"STARTED\", \n",
      "                            \"relocating_node\": null\n",
      "                        }, \n",
      "                        {\n",
      "                            \"node\": null, \n",
      "                            \"index\": \"movie\", \n",
      "                            \"primary\": false, \n",
      "                            \"shard\": 1, \n",
      "                            \"recovery_source\": {\n",
      "                                \"type\": \"PEER\"\n",
      "                            }, \n",
      "                            \"state\": \"UNASSIGNED\", \n",
      "                            \"relocating_node\": null, \n",
      "                            \"unassigned_info\": {\n",
      "                                \"reason\": \"CLUSTER_RECOVERED\", \n",
      "                                \"at\": \"2018-12-13T01:02:10.908Z\", \n",
      "                                \"allocation_status\": \"no_attempt\", \n",
      "                                \"delayed\": false\n",
      "                            }\n",
      "                        }\n",
      "                    ], \n",
      "                    \"0\": [\n",
      "                        {\n",
      "                            \"node\": \"JqzKJFoASO6ck6_hUqn0Zg\", \n",
      "                            \"index\": \"movie\", \n",
      "                            \"allocation_id\": {\n",
      "                                \"id\": \"34BCp_2FRA6slTFV31UtsA\"\n",
      "                            }, \n",
      "                            \"primary\": true, \n",
      "                            \"shard\": 0, \n",
      "                            \"state\": \"STARTED\", \n",
      "                            \"relocating_node\": null\n",
      "                        }, \n",
      "                        {\n",
      "                            \"node\": null, \n",
      "                            \"index\": \"movie\", \n",
      "                            \"primary\": false, \n",
      "                            \"shard\": 0, \n",
      "                            \"recovery_source\": {\n",
      "                                \"type\": \"PEER\"\n",
      "                            }, \n",
      "                            \"state\": \"UNASSIGNED\", \n",
      "                            \"relocating_node\": null, \n",
      "                            \"unassigned_info\": {\n",
      "                                \"reason\": \"CLUSTER_RECOVERED\", \n",
      "                                \"at\": \"2018-12-13T01:02:10.908Z\", \n",
      "                                \"allocation_status\": \"no_attempt\", \n",
      "                                \"delayed\": false\n",
      "                            }\n",
      "                        }\n",
      "                    ], \n",
      "                    \"3\": [\n",
      "                        {\n",
      "                            \"node\": \"JqzKJFoASO6ck6_hUqn0Zg\", \n",
      "                            \"index\": \"movie\", \n",
      "                            \"allocation_id\": {\n",
      "                                \"id\": \"b2IKfkI-QcCLVYmzTgdmbw\"\n",
      "                            }, \n",
      "                            \"primary\": true, \n",
      "                            \"shard\": 3, \n",
      "                            \"state\": \"STARTED\", \n",
      "                            \"relocating_node\": null\n",
      "                        }, \n",
      "                        {\n",
      "                            \"node\": null, \n",
      "                            \"index\": \"movie\", \n",
      "                            \"primary\": false, \n",
      "                            \"shard\": 3, \n",
      "                            \"recovery_source\": {\n",
      "                                \"type\": \"PEER\"\n",
      "                            }, \n",
      "                            \"state\": \"UNASSIGNED\", \n",
      "                            \"relocating_node\": null, \n",
      "                            \"unassigned_info\": {\n",
      "                                \"reason\": \"CLUSTER_RECOVERED\", \n",
      "                                \"at\": \"2018-12-13T01:02:10.908Z\", \n",
      "                                \"allocation_status\": \"no_attempt\", \n",
      "                                \"delayed\": false\n",
      "                            }\n",
      "                        }\n",
      "                    ], \n",
      "                    \"2\": [\n",
      "                        {\n",
      "                            \"node\": \"JqzKJFoASO6ck6_hUqn0Zg\", \n",
      "                            \"index\": \"movie\", \n",
      "                            \"allocation_id\": {\n",
      "                                \"id\": \"OPJZ7mAHQh6kVwNn38WNaw\"\n",
      "                            }, \n",
      "                            \"primary\": true, \n",
      "                            \"shard\": 2, \n",
      "                            \"state\": \"STARTED\", \n",
      "                            \"relocating_node\": null\n",
      "                        }, \n",
      "                        {\n",
      "                            \"node\": null, \n",
      "                            \"index\": \"movie\", \n",
      "                            \"primary\": false, \n",
      "                            \"shard\": 2, \n",
      "                            \"recovery_source\": {\n",
      "                                \"type\": \"PEER\"\n",
      "                            }, \n",
      "                            \"state\": \"UNASSIGNED\", \n",
      "                            \"relocating_node\": null, \n",
      "                            \"unassigned_info\": {\n",
      "                                \"reason\": \"CLUSTER_RECOVERED\", \n",
      "                                \"at\": \"2018-12-13T01:02:10.908Z\", \n",
      "                                \"allocation_status\": \"no_attempt\", \n",
      "                                \"delayed\": false\n",
      "                            }\n",
      "                        }\n",
      "                    ], \n",
      "                    \"4\": [\n",
      "                        {\n",
      "                            \"node\": \"JqzKJFoASO6ck6_hUqn0Zg\", \n",
      "                            \"index\": \"movie\", \n",
      "                            \"allocation_id\": {\n",
      "                                \"id\": \"Y68dmNKtRzubUH2kuf11AQ\"\n",
      "                            }, \n",
      "                            \"primary\": true, \n",
      "                            \"shard\": 4, \n",
      "                            \"state\": \"STARTED\", \n",
      "                            \"relocating_node\": null\n",
      "                        }, \n",
      "                        {\n",
      "                            \"node\": null, \n",
      "                            \"index\": \"movie\", \n",
      "                            \"primary\": false, \n",
      "                            \"shard\": 4, \n",
      "                            \"recovery_source\": {\n",
      "                                \"type\": \"PEER\"\n",
      "                            }, \n",
      "                            \"state\": \"UNASSIGNED\", \n",
      "                            \"relocating_node\": null, \n",
      "                            \"unassigned_info\": {\n",
      "                                \"reason\": \"CLUSTER_RECOVERED\", \n",
      "                                \"at\": \"2018-12-13T01:02:10.908Z\", \n",
      "                                \"allocation_status\": \"no_attempt\", \n",
      "                                \"delayed\": false\n",
      "                            }\n",
      "                        }\n",
      "                    ]\n",
      "                }\n",
      "            }\n",
      "        }\n",
      "    }, \n",
      "    \"cluster_name\": \"elasticsearch\", \n",
      "    \"master_node\": \"JqzKJFoASO6ck6_hUqn0Zg\", \n",
      "    \"version\": 18, \n",
      "    \"nodes\": {\n",
      "        \"JqzKJFoASO6ck6_hUqn0Zg\": {\n",
      "            \"attributes\": {}, \n",
      "            \"ephemeral_id\": \"7TqyCNN0R8OcgXPnCAS-Og\", \n",
      "            \"name\": \"JqzKJFo\", \n",
      "            \"transport_address\": \"127.0.0.1:9300\"\n",
      "        }\n",
      "    }\n",
      "}\n"
     ]
    }
   ],
   "source": [
    "# view state of cluster with some of metric\n",
    "# \n",
    "respond = pyels.cluster_state(metric=['version', 'master_node', 'nodes', 'routing_table'], index=['_all'])\n",
    "print(json.dumps(obj=respond, indent=4))"
   ]
  },
  {
   "cell_type": "code",
   "execution_count": 127,
   "metadata": {},
   "outputs": [],
   "source": [
    "# define function\n",
    "def list_index():\n",
    "    respond = pyels.send_request(method='GET', path_components=['_cat', 'indices'], query_params={'v':'true', 's':'index'})\n",
    "    return respond"
   ]
  },
  {
   "cell_type": "code",
   "execution_count": 301,
   "metadata": {},
   "outputs": [
    {
     "name": "stdout",
     "output_type": "stream",
     "text": [
      "<type 'unicode'>\n",
      "health status index   uuid                   pri rep docs.count docs.deleted store.size pri.store.size\n",
      "yellow open   .kibana zl1IHqMkQCGWQPtzalIkTA   1   1          1            0      3.2kb          3.2kb\n",
      "yellow open   movie   _X6rd6AlS3yPTtZsK_ftxQ   5   1          4            0     25.9kb         25.9kb\n",
      "\n"
     ]
    }
   ],
   "source": [
    "# view list index in cluster\n",
    "list_index_respond = list_index()\n",
    "print(type(list_index_respond))\n",
    "print(list_index_respond)"
   ]
  },
  {
   "cell_type": "code",
   "execution_count": 64,
   "metadata": {},
   "outputs": [],
   "source": [
    "# we can delete some of index \n",
    "pyels.delete_index(index=['movie_test0', 'movie_test1'])"
   ]
  },
  {
   "cell_type": "code",
   "execution_count": 97,
   "metadata": {},
   "outputs": [
    {
     "data": {
      "text/plain": [
       "{u'errors': False,\n",
       " u'items': [{u'index': {u'_id': u'100067433',\n",
       "    u'_index': u'movie',\n",
       "    u'_shards': {u'failed': 0, u'successful': 1, u'total': 2},\n",
       "    u'_type': u'VOD',\n",
       "    u'_version': 1,\n",
       "    u'created': True,\n",
       "    u'result': u'created',\n",
       "    u'status': 201}},\n",
       "  {u'index': {u'_id': u'100067495',\n",
       "    u'_index': u'movie',\n",
       "    u'_shards': {u'failed': 0, u'successful': 1, u'total': 2},\n",
       "    u'_type': u'VOD',\n",
       "    u'_version': 1,\n",
       "    u'created': True,\n",
       "    u'result': u'created',\n",
       "    u'status': 201}},\n",
       "  {u'index': {u'_id': u'100067496',\n",
       "    u'_index': u'movie',\n",
       "    u'_shards': {u'failed': 0, u'successful': 1, u'total': 2},\n",
       "    u'_type': u'VOD',\n",
       "    u'_version': 1,\n",
       "    u'created': True,\n",
       "    u'result': u'created',\n",
       "    u'status': 201}},\n",
       "  {u'index': {u'_id': u'100067497',\n",
       "    u'_index': u'movie',\n",
       "    u'_shards': {u'failed': 0, u'successful': 1, u'total': 2},\n",
       "    u'_type': u'VOD',\n",
       "    u'_version': 1,\n",
       "    u'created': True,\n",
       "    u'result': u'created',\n",
       "    u'status': 201}}],\n",
       " u'took': 1628}"
      ]
     },
     "execution_count": 97,
     "metadata": {},
     "output_type": "execute_result"
    }
   ],
   "source": [
    "# index list_dict_nan_lead to elasticsearch\n",
    "pyels.bulk_index(index='movie', doc_type='VOD', docs=list_dict_nan_lead, id_field='id')"
   ]
  },
  {
   "cell_type": "code",
   "execution_count": 102,
   "metadata": {},
   "outputs": [],
   "source": [
    "# import pprint\n",
    "import pprint"
   ]
  },
  {
   "cell_type": "code",
   "execution_count": 104,
   "metadata": {},
   "outputs": [],
   "source": [
    "_index = 'movie'\n",
    "_doctype = 'VOD'"
   ]
  },
  {
   "cell_type": "code",
   "execution_count": 103,
   "metadata": {},
   "outputs": [
    {
     "name": "stdout",
     "output_type": "stream",
     "text": [
      "<type 'dict'>\n",
      "{u'_id': u'100067495',\n",
      " u'_index': u'movie',\n",
      " u'_source': {u'Actors': None,\n",
      "              u'AppID': 21,\n",
      "              u'Directors': None,\n",
      "              u'EndTimeMovie': u'2100-01-01 00:00:00.000',\n",
      "              u'Folder': 509,\n",
      "              u'Image': u'http://fboximages.fptplay.net.vn/VOD/FullHD/2018/07/Test4KSamsung_2018_USA_B_5T/Test4KSamsung_2018_USA_B_5T_S.jpg',\n",
      "              u'Lead': None,\n",
      "              u'ListOnfolder': u'509,19',\n",
      "              u'LocalType': 1,\n",
      "              u'MPA': u'G',\n",
      "              u'Parental': 0,\n",
      "              u'Producers': None,\n",
      "              u'Release': 2018,\n",
      "              u'ShowTimeMovie': u'2019-07-20 00:00:00.000',\n",
      "              u'State': 4,\n",
      "              u'Status': 0,\n",
      "              u'Title': u'Test 4K Samsung (Test 4K Samsung)',\n",
      "              u'TitleEN': u'Test 4K Samsung',\n",
      "              u'TitleSearch': u'Test 4K Samsung (Test 4K Samsung)',\n",
      "              u'TitleVN': u'Test 4K Samsung',\n",
      "              u'TopTitle': u'FullHD 1080'},\n",
      " u'_type': u'VOD',\n",
      " u'_version': 1,\n",
      " u'found': True}\n"
     ]
    }
   ],
   "source": [
    "# view document from index movie with id\n",
    "respond = pyels.get(index=_index, doc_type=_doctype, id='100067495')\n",
    "print(type(respond))\n",
    "pprint.pprint(respond)"
   ]
  },
  {
   "cell_type": "code",
   "execution_count": 107,
   "metadata": {},
   "outputs": [
    {
     "data": {
      "text/plain": [
       "{u'_shards': {u'failed': 0, u'successful': 5, u'total': 5},\n",
       " u'hits': {u'hits': [{u'_id': u'100067496',\n",
       "    u'_index': u'movie',\n",
       "    u'_score': 1.6309083,\n",
       "    u'_source': {u'Actors': None,\n",
       "     u'AppID': 21,\n",
       "     u'Directors': None,\n",
       "     u'EndTimeMovie': u'2100-01-01 00:00:00.000',\n",
       "     u'Folder': 509,\n",
       "     u'Image': u'http://fboximages.fptplay.net.vn/VOD/FullHD/2018/07/Test4KSony_2018_USA_B_5T/Test4KSony_2018_USA_B_5T_S.jpg',\n",
       "     u'Lead': None,\n",
       "     u'ListOnfolder': u'509,19',\n",
       "     u'LocalType': 1,\n",
       "     u'MPA': u'G',\n",
       "     u'Parental': 0,\n",
       "     u'Producers': None,\n",
       "     u'Release': 2018,\n",
       "     u'ShowTimeMovie': u'2019-07-20 00:00:00.000',\n",
       "     u'State': 4,\n",
       "     u'Status': 0,\n",
       "     u'Title': u'Test 4K Sony (Test 4K Sony)',\n",
       "     u'TitleEN': u'Test 4K Sony',\n",
       "     u'TitleSearch': u'Test 4K Sony (Test 4K Sony)',\n",
       "     u'TitleVN': u'Test 4K Sony',\n",
       "     u'TopTitle': u'FullHD 1080'},\n",
       "    u'_type': u'VOD'},\n",
       "   {u'_id': u'100067497',\n",
       "    u'_index': u'movie',\n",
       "    u'_score': 0.75196105,\n",
       "    u'_source': {u'Actors': None,\n",
       "     u'AppID': 21,\n",
       "     u'Directors': None,\n",
       "     u'EndTimeMovie': u'2100-01-01 00:00:00.000',\n",
       "     u'Folder': 509,\n",
       "     u'Image': u'http://fboximages.fptplay.net.vn/VOD/FullHD/2018/07/Test4KLG_2018_USA_B_5T/Test4KLG_2018_USA_B_5T_S.jpg',\n",
       "     u'Lead': None,\n",
       "     u'ListOnfolder': u'509,19',\n",
       "     u'LocalType': 1,\n",
       "     u'MPA': u'G',\n",
       "     u'Parental': 0,\n",
       "     u'Producers': None,\n",
       "     u'Release': 2018,\n",
       "     u'ShowTimeMovie': u'2019-07-20 00:00:00.000',\n",
       "     u'State': 4,\n",
       "     u'Status': 0,\n",
       "     u'Title': u'Test 4K LG (Test 4K LG)',\n",
       "     u'TitleEN': u'Test 4K LG',\n",
       "     u'TitleSearch': u'Test 4K LG (Test 4K LG)',\n",
       "     u'TitleVN': u'Test 4K LG',\n",
       "     u'TopTitle': u'FullHD 1080'},\n",
       "    u'_type': u'VOD'},\n",
       "   {u'_id': u'100067433',\n",
       "    u'_index': u'movie',\n",
       "    u'_score': 0.34903252,\n",
       "    u'_source': {u'Actors': None,\n",
       "     u'AppID': 21,\n",
       "     u'Directors': None,\n",
       "     u'EndTimeMovie': u'2100-01-01 00:00:00.000',\n",
       "     u'Folder': 509,\n",
       "     u'Image': u'http://fboximages.fptplay.net.vn/VOD/FullHD/2018/07/Testprofile4K_2018_USA_B_10T/Testprofile4K_2018_USA_B_10T_S.jpg',\n",
       "     u'Lead': None,\n",
       "     u'ListOnfolder': u'509,19',\n",
       "     u'LocalType': 1,\n",
       "     u'MPA': u'R',\n",
       "     u'Parental': 16,\n",
       "     u'Producers': None,\n",
       "     u'Release': 2018,\n",
       "     u'ShowTimeMovie': u'2019-01-01 00:00:00.000',\n",
       "     u'State': 4,\n",
       "     u'Status': 0,\n",
       "     u'Title': u'Test profile 4K (Test profile 4K)',\n",
       "     u'TitleEN': u'Test profile 4K',\n",
       "     u'TitleSearch': u'Test profile 4K (Test profile 4K)',\n",
       "     u'TitleVN': u'Test profile 4K',\n",
       "     u'TopTitle': u'FullHD 1080'},\n",
       "    u'_type': u'VOD'},\n",
       "   {u'_id': u'100067495',\n",
       "    u'_index': u'movie',\n",
       "    u'_score': 0.34903252,\n",
       "    u'_source': {u'Actors': None,\n",
       "     u'AppID': 21,\n",
       "     u'Directors': None,\n",
       "     u'EndTimeMovie': u'2100-01-01 00:00:00.000',\n",
       "     u'Folder': 509,\n",
       "     u'Image': u'http://fboximages.fptplay.net.vn/VOD/FullHD/2018/07/Test4KSamsung_2018_USA_B_5T/Test4KSamsung_2018_USA_B_5T_S.jpg',\n",
       "     u'Lead': None,\n",
       "     u'ListOnfolder': u'509,19',\n",
       "     u'LocalType': 1,\n",
       "     u'MPA': u'G',\n",
       "     u'Parental': 0,\n",
       "     u'Producers': None,\n",
       "     u'Release': 2018,\n",
       "     u'ShowTimeMovie': u'2019-07-20 00:00:00.000',\n",
       "     u'State': 4,\n",
       "     u'Status': 0,\n",
       "     u'Title': u'Test 4K Samsung (Test 4K Samsung)',\n",
       "     u'TitleEN': u'Test 4K Samsung',\n",
       "     u'TitleSearch': u'Test 4K Samsung (Test 4K Samsung)',\n",
       "     u'TitleVN': u'Test 4K Samsung',\n",
       "     u'TopTitle': u'FullHD 1080'},\n",
       "    u'_type': u'VOD'}],\n",
       "  u'max_score': 1.6309083,\n",
       "  u'total': 4},\n",
       " u'timed_out': False,\n",
       " u'took': 45}"
      ]
     },
     "execution_count": 107,
     "metadata": {},
     "output_type": "execute_result"
    }
   ],
   "source": [
    "# search document with TitleSearch field by match query\n",
    "pyels.search(query={'query':{'match': {'TitleSearch': 'Test 4K Sony'}}}, index=_index, doc_type=_doctype)"
   ]
  },
  {
   "cell_type": "code",
   "execution_count": 124,
   "metadata": {},
   "outputs": [],
   "source": [
    "_query = {'query':{'match':{'TitleSearch':{'query':'Test 4K', 'operator':'and'}}}, '_source':['AppID', 'Title*']}"
   ]
  },
  {
   "cell_type": "code",
   "execution_count": 125,
   "metadata": {},
   "outputs": [
    {
     "data": {
      "text/plain": [
       "{u'_shards': {u'failed': 0, u'successful': 5, u'total': 5},\n",
       " u'hits': {u'hits': [{u'_id': u'100067497',\n",
       "    u'_index': u'movie',\n",
       "    u'_score': 0.75196105,\n",
       "    u'_source': {u'AppID': 21,\n",
       "     u'Title': u'Test 4K LG (Test 4K LG)',\n",
       "     u'TitleEN': u'Test 4K LG',\n",
       "     u'TitleSearch': u'Test 4K LG (Test 4K LG)',\n",
       "     u'TitleVN': u'Test 4K LG'},\n",
       "    u'_type': u'VOD'},\n",
       "   {u'_id': u'100067433',\n",
       "    u'_index': u'movie',\n",
       "    u'_score': 0.34903252,\n",
       "    u'_source': {u'AppID': 21,\n",
       "     u'Title': u'Test profile 4K (Test profile 4K)',\n",
       "     u'TitleEN': u'Test profile 4K',\n",
       "     u'TitleSearch': u'Test profile 4K (Test profile 4K)',\n",
       "     u'TitleVN': u'Test profile 4K'},\n",
       "    u'_type': u'VOD'},\n",
       "   {u'_id': u'100067495',\n",
       "    u'_index': u'movie',\n",
       "    u'_score': 0.34903252,\n",
       "    u'_source': {u'AppID': 21,\n",
       "     u'Title': u'Test 4K Samsung (Test 4K Samsung)',\n",
       "     u'TitleEN': u'Test 4K Samsung',\n",
       "     u'TitleSearch': u'Test 4K Samsung (Test 4K Samsung)',\n",
       "     u'TitleVN': u'Test 4K Samsung'},\n",
       "    u'_type': u'VOD'},\n",
       "   {u'_id': u'100067496',\n",
       "    u'_index': u'movie',\n",
       "    u'_score': 0.34903252,\n",
       "    u'_source': {u'AppID': 21,\n",
       "     u'Title': u'Test 4K Sony (Test 4K Sony)',\n",
       "     u'TitleEN': u'Test 4K Sony',\n",
       "     u'TitleSearch': u'Test 4K Sony (Test 4K Sony)',\n",
       "     u'TitleVN': u'Test 4K Sony'},\n",
       "    u'_type': u'VOD'}],\n",
       "  u'max_score': 0.75196105,\n",
       "  u'total': 4},\n",
       " u'timed_out': False,\n",
       " u'took': 54}"
      ]
     },
     "execution_count": 125,
     "metadata": {},
     "output_type": "execute_result"
    }
   ],
   "source": [
    "# search document with TitleSearch field by match query\n",
    "pyels.search(query=_query, index=_index, doc_type=_doctype)"
   ]
  },
  {
   "cell_type": "code",
   "execution_count": 126,
   "metadata": {},
   "outputs": [
    {
     "data": {
      "text/plain": [
       "{u'_shards': {u'failed': 0, u'successful': 5, u'total': 5},\n",
       " u'hits': {u'hits': [{u'_id': u'100067496',\n",
       "    u'_index': u'movie',\n",
       "    u'_score': 1.6309084,\n",
       "    u'_source': {u'Actors': None,\n",
       "     u'AppID': 21,\n",
       "     u'Directors': None,\n",
       "     u'EndTimeMovie': u'2100-01-01 00:00:00.000',\n",
       "     u'Folder': 509,\n",
       "     u'Image': u'http://fboximages.fptplay.net.vn/VOD/FullHD/2018/07/Test4KSony_2018_USA_B_5T/Test4KSony_2018_USA_B_5T_S.jpg',\n",
       "     u'Lead': None,\n",
       "     u'ListOnfolder': u'509,19',\n",
       "     u'LocalType': 1,\n",
       "     u'MPA': u'G',\n",
       "     u'Parental': 0,\n",
       "     u'Producers': None,\n",
       "     u'Release': 2018,\n",
       "     u'ShowTimeMovie': u'2019-07-20 00:00:00.000',\n",
       "     u'State': 4,\n",
       "     u'Status': 0,\n",
       "     u'Title': u'Test 4K Sony (Test 4K Sony)',\n",
       "     u'TitleEN': u'Test 4K Sony',\n",
       "     u'TitleSearch': u'Test 4K Sony (Test 4K Sony)',\n",
       "     u'TitleVN': u'Test 4K Sony',\n",
       "     u'TopTitle': u'FullHD 1080'},\n",
       "    u'_type': u'VOD'}],\n",
       "  u'max_score': 1.6309084,\n",
       "  u'total': 1},\n",
       " u'timed_out': False,\n",
       " u'took': 32}"
      ]
     },
     "execution_count": 126,
     "metadata": {},
     "output_type": "execute_result"
    }
   ],
   "source": [
    "# search document with TitleSearch field by match_phrase query\n",
    "pyels.search(query={'query':{'match_phrase': {'TitleSearch': 'Test 4K Sony'}}}, index=_index, doc_type=_doctype)"
   ]
  },
  {
   "cell_type": "code",
   "execution_count": 224,
   "metadata": {},
   "outputs": [],
   "source": [
    "# filter with State, Status, ShowTimeMovie, EndTimeMovie\n",
    "_query = {\n",
    "    \"query\": { \n",
    "        \"bool\": { \n",
    "            \"must\": [\n",
    "                { \"match\": { \"TitleSearch\":   \"Test 4K\"        }},  \n",
    "            ],\n",
    "            \"filter\": [ \n",
    "                { \"term\":  { \"State\": 4 }}, \n",
    "                { \"range\": \n",
    "                    { \"ShowTimeMovie\": { \"lte\": \"now\" }}\n",
    "                }\n",
    "            ]\n",
    "        }\n",
    "    }\n",
    "}"
   ]
  },
  {
   "cell_type": "code",
   "execution_count": 225,
   "metadata": {},
   "outputs": [
    {
     "data": {
      "text/plain": [
       "{u'_shards': {u'failed': 0, u'successful': 5, u'total': 5},\n",
       " u'hits': {u'hits': [{u'_id': u'100067497',\n",
       "    u'_index': u'movie',\n",
       "    u'_score': 0.75196105,\n",
       "    u'_source': {u'Actors': None,\n",
       "     u'AppID': 21,\n",
       "     u'Directors': None,\n",
       "     u'EndTimeMovie': u'2100-01-01 00:00:00.000',\n",
       "     u'Folder': 509,\n",
       "     u'Image': u'http://fboximages.fptplay.net.vn/VOD/FullHD/2018/07/Test4KLG_2018_USA_B_5T/Test4KLG_2018_USA_B_5T_S.jpg',\n",
       "     u'Lead': None,\n",
       "     u'ListOnfolder': u'509,19',\n",
       "     u'LocalType': 1,\n",
       "     u'MPA': u'G',\n",
       "     u'Parental': 0,\n",
       "     u'Producers': None,\n",
       "     u'Release': 2018,\n",
       "     u'ShowTimeMovie': u'2019-07-20 00:00:00.000',\n",
       "     u'State': 4,\n",
       "     u'Status': 0,\n",
       "     u'Title': u'Test 4K LG (Test 4K LG)',\n",
       "     u'TitleEN': u'Test 4K LG',\n",
       "     u'TitleSearch': u'Test 4K LG (Test 4K LG)',\n",
       "     u'TitleVN': u'Test 4K LG',\n",
       "     u'TopTitle': u'FullHD 1080'},\n",
       "    u'_type': u'VOD'},\n",
       "   {u'_id': u'100067433',\n",
       "    u'_index': u'movie',\n",
       "    u'_score': 0.34903252,\n",
       "    u'_source': {u'Actors': None,\n",
       "     u'AppID': 21,\n",
       "     u'Directors': None,\n",
       "     u'EndTimeMovie': u'2100-01-01 00:00:00.000',\n",
       "     u'Folder': 509,\n",
       "     u'Image': u'http://fboximages.fptplay.net.vn/VOD/FullHD/2018/07/Testprofile4K_2018_USA_B_10T/Testprofile4K_2018_USA_B_10T_S.jpg',\n",
       "     u'Lead': None,\n",
       "     u'ListOnfolder': u'509,19',\n",
       "     u'LocalType': 1,\n",
       "     u'MPA': u'R',\n",
       "     u'Parental': 16,\n",
       "     u'Producers': None,\n",
       "     u'Release': 2018,\n",
       "     u'ShowTimeMovie': u'2019-01-01 00:00:00.000',\n",
       "     u'State': 4,\n",
       "     u'Status': 0,\n",
       "     u'Title': u'Test profile 4K (Test profile 4K)',\n",
       "     u'TitleEN': u'Test profile 4K',\n",
       "     u'TitleSearch': u'Test profile 4K (Test profile 4K)',\n",
       "     u'TitleVN': u'Test profile 4K',\n",
       "     u'TopTitle': u'FullHD 1080'},\n",
       "    u'_type': u'VOD'},\n",
       "   {u'_id': u'100067495',\n",
       "    u'_index': u'movie',\n",
       "    u'_score': 0.34903252,\n",
       "    u'_source': {u'Actors': None,\n",
       "     u'AppID': 21,\n",
       "     u'Directors': None,\n",
       "     u'EndTimeMovie': u'2100-01-01 00:00:00.000',\n",
       "     u'Folder': 509,\n",
       "     u'Image': u'http://fboximages.fptplay.net.vn/VOD/FullHD/2018/07/Test4KSamsung_2018_USA_B_5T/Test4KSamsung_2018_USA_B_5T_S.jpg',\n",
       "     u'Lead': None,\n",
       "     u'ListOnfolder': u'509,19',\n",
       "     u'LocalType': 1,\n",
       "     u'MPA': u'G',\n",
       "     u'Parental': 0,\n",
       "     u'Producers': None,\n",
       "     u'Release': 2018,\n",
       "     u'ShowTimeMovie': u'2019-07-20 00:00:00.000',\n",
       "     u'State': 4,\n",
       "     u'Status': 0,\n",
       "     u'Title': u'Test 4K Samsung (Test 4K Samsung)',\n",
       "     u'TitleEN': u'Test 4K Samsung',\n",
       "     u'TitleSearch': u'Test 4K Samsung (Test 4K Samsung)',\n",
       "     u'TitleVN': u'Test 4K Samsung',\n",
       "     u'TopTitle': u'FullHD 1080'},\n",
       "    u'_type': u'VOD'},\n",
       "   {u'_id': u'100067496',\n",
       "    u'_index': u'movie',\n",
       "    u'_score': 0.34903252,\n",
       "    u'_source': {u'Actors': None,\n",
       "     u'AppID': 21,\n",
       "     u'Directors': None,\n",
       "     u'EndTimeMovie': u'2100-01-01 00:00:00.000',\n",
       "     u'Folder': 509,\n",
       "     u'Image': u'http://fboximages.fptplay.net.vn/VOD/FullHD/2018/07/Test4KSony_2018_USA_B_5T/Test4KSony_2018_USA_B_5T_S.jpg',\n",
       "     u'Lead': None,\n",
       "     u'ListOnfolder': u'509,19',\n",
       "     u'LocalType': 1,\n",
       "     u'MPA': u'G',\n",
       "     u'Parental': 0,\n",
       "     u'Producers': None,\n",
       "     u'Release': 2018,\n",
       "     u'ShowTimeMovie': u'2019-07-20 00:00:00.000',\n",
       "     u'State': 4,\n",
       "     u'Status': 0,\n",
       "     u'Title': u'Test 4K Sony (Test 4K Sony)',\n",
       "     u'TitleEN': u'Test 4K Sony',\n",
       "     u'TitleSearch': u'Test 4K Sony (Test 4K Sony)',\n",
       "     u'TitleVN': u'Test 4K Sony',\n",
       "     u'TopTitle': u'FullHD 1080'},\n",
       "    u'_type': u'VOD'}],\n",
       "  u'max_score': 0.75196105,\n",
       "  u'total': 4},\n",
       " u'timed_out': False,\n",
       " u'took': 5}"
      ]
     },
     "execution_count": 225,
     "metadata": {},
     "output_type": "execute_result"
    }
   ],
   "source": [
    "# view filter\n",
    "pyels.search(query=_query, index=_index, doc_type=_doctype)"
   ]
  },
  {
   "cell_type": "markdown",
   "metadata": {},
   "source": [
    "## ERROR when ShowTimeMovie and EndTimeMovie have DateTime\n",
    "\n",
    "<hr/>\n",
    "\n",
    "**Because using type string of ShowTimeMovie and EndTimeMovie**, thus we have get error respond fail when we filter with these fields.\n",
    "\n",
    "**To solve this problem, we can change string to datetime type (Tried). Or using mapping in elasticsearch(try it yet)**\n",
    "\n",
    "**Now we will index all our data to elasticsearch**"
   ]
  },
  {
   "cell_type": "markdown",
   "metadata": {},
   "source": [
    "### Chage String to Datetime\n",
    "\n",
    "<hr/>\n",
    "\n",
    "**Test with data_nan_lead**"
   ]
  },
  {
   "cell_type": "code",
   "execution_count": 309,
   "metadata": {},
   "outputs": [],
   "source": [
    "# df.ShowTimeMovie = df.ShowTimeMovie.apply(lambda x : datetime.strptime(X,'%Y-%m-%d %H:%M:%S.%f'))"
   ]
  },
  {
   "cell_type": "code",
   "execution_count": 341,
   "metadata": {},
   "outputs": [],
   "source": [
    "# process with nan data\n",
    "data_nan_lead.fillna(value='', inplace=True)"
   ]
  },
  {
   "cell_type": "code",
   "execution_count": 281,
   "metadata": {},
   "outputs": [],
   "source": [
    "# data_nan_lead.ShowTimeMovie = data_nan_lead.ShowTimeMovie.apply(lambda x : datetime.strptime(str(x),'%Y-%m-%d %H:%M:%S'))\n",
    "# data_nan_lead.EndTimeMovie = data_nan_lead.ShowTimeMovie.apply(lambda x : datetime.strptime(str(x),'%Y-%m-%d %H:%M:%S'))"
   ]
  },
  {
   "cell_type": "code",
   "execution_count": 342,
   "metadata": {},
   "outputs": [
    {
     "data": {
      "text/plain": [
       "9479    \n",
       "9508    \n",
       "9509    \n",
       "9510    \n",
       "Name: Lead, dtype: object"
      ]
     },
     "execution_count": 342,
     "metadata": {},
     "output_type": "execute_result"
    }
   ],
   "source": [
    "# view\n",
    "data_nan_lead.Lead"
   ]
  },
  {
   "cell_type": "code",
   "execution_count": 406,
   "metadata": {},
   "outputs": [],
   "source": [
    "# -*- coding: utf-8 -*-\n",
    "# convert dataframe to dict\n",
    "# \n",
    "docs = data_nan_lead.to_dict(orient='records')"
   ]
  },
  {
   "cell_type": "code",
   "execution_count": 407,
   "metadata": {},
   "outputs": [
    {
     "data": {
      "text/plain": [
       "{'Actors': '',\n",
       " 'AppID': 21,\n",
       " 'Directors': '',\n",
       " 'EndTimeMovie': '2100-01-01 00:00:00.000',\n",
       " 'Folder': 509,\n",
       " 'Image': 'http://fboximages.fptplay.net.vn/VOD/FullHD/2018/07/Test4KSamsung_2018_USA_B_5T/Test4KSamsung_2018_USA_B_5T_S.jpg',\n",
       " 'Lead': '',\n",
       " 'ListOnfolder': '509,19',\n",
       " 'LocalType': 1,\n",
       " 'MPA': 'G',\n",
       " 'Parental': 0,\n",
       " 'Producers': '',\n",
       " 'Release': 2018,\n",
       " 'ShowTimeMovie': '2019-07-20 00:00:00.000',\n",
       " 'State': 4,\n",
       " 'Status': 0,\n",
       " 'Title': 'Test 4K Samsung (Test 4K Samsung)',\n",
       " 'TitleEN': 'Test 4K Samsung',\n",
       " 'TitleSearch': 'Test 4K Samsung (Test 4K Samsung)',\n",
       " 'TitleVN': 'Test 4K Samsung',\n",
       " 'TopTitle': 'FullHD 1080',\n",
       " 'id': 100067495}"
      ]
     },
     "execution_count": 407,
     "metadata": {},
     "output_type": "execute_result"
    }
   ],
   "source": [
    "# view\n",
    "docs[1]"
   ]
  },
  {
   "cell_type": "code",
   "execution_count": 356,
   "metadata": {},
   "outputs": [
    {
     "data": {
      "text/plain": [
       "datetime.datetime(2100, 1, 1, 0, 0)"
      ]
     },
     "execution_count": 356,
     "metadata": {},
     "output_type": "execute_result"
    }
   ],
   "source": [
    "# import datetime\n",
    "# to parse string time to datetime with format\n",
    "from datetime import datetime\n",
    "datetime.strptime(\"2100-01-01 00:00:00.000\", \"%Y-%m-%d %H:%M:%S.%f\")"
   ]
  },
  {
   "cell_type": "code",
   "execution_count": 400,
   "metadata": {},
   "outputs": [],
   "source": [
    "# apply parse string time to docs\n",
    "# to convert ShowTimeMovie, EndTimeMovie field to datetime\n",
    "for doc in docs:\n",
    "    doc['ShowTimeMovie'] = datetime.strptime(doc['ShowTimeMovie'],'%Y-%m-%d %H:%M:%S.%f')\n",
    "    doc['EndTimeMovie'] = datetime.strptime(doc['EndTimeMovie'],'%Y-%m-%d %H:%M:%S.%f')"
   ]
  },
  {
   "cell_type": "code",
   "execution_count": 402,
   "metadata": {},
   "outputs": [
    {
     "data": {
      "text/plain": [
       "{u'acknowledged': True}"
      ]
     },
     "execution_count": 402,
     "metadata": {},
     "output_type": "execute_result"
    }
   ],
   "source": [
    "# delete index, funny\n",
    "# it get error if not found index\n",
    "pyels.delete_index(index='movie')"
   ]
  },
  {
   "cell_type": "code",
   "execution_count": 388,
   "metadata": {},
   "outputs": [
    {
     "data": {
      "text/plain": [
       "datetime.datetime"
      ]
     },
     "execution_count": 388,
     "metadata": {},
     "output_type": "execute_result"
    }
   ],
   "source": [
    "# view type of ShowTimeMovie field\n",
    "# to sure, it work correctly\n",
    "type(docs[1]['ShowTimeMovie'])"
   ]
  },
  {
   "cell_type": "code",
   "execution_count": 409,
   "metadata": {},
   "outputs": [],
   "source": [
    "# import copy module\n",
    "# to use it for deepcopy with list dict\n",
    "# to use again data when necessary.\n",
    "import copy"
   ]
  },
  {
   "cell_type": "code",
   "execution_count": 403,
   "metadata": {},
   "outputs": [
    {
     "data": {
      "text/plain": [
       "{u'errors': False,\n",
       " u'items': [{u'index': {u'_id': u'100067433',\n",
       "    u'_index': u'movie',\n",
       "    u'_shards': {u'failed': 0, u'successful': 1, u'total': 2},\n",
       "    u'_type': u'VOD',\n",
       "    u'_version': 1,\n",
       "    u'created': True,\n",
       "    u'result': u'created',\n",
       "    u'status': 201}},\n",
       "  {u'index': {u'_id': u'100067495',\n",
       "    u'_index': u'movie',\n",
       "    u'_shards': {u'failed': 0, u'successful': 1, u'total': 2},\n",
       "    u'_type': u'VOD',\n",
       "    u'_version': 1,\n",
       "    u'created': True,\n",
       "    u'result': u'created',\n",
       "    u'status': 201}},\n",
       "  {u'index': {u'_id': u'100067496',\n",
       "    u'_index': u'movie',\n",
       "    u'_shards': {u'failed': 0, u'successful': 1, u'total': 2},\n",
       "    u'_type': u'VOD',\n",
       "    u'_version': 1,\n",
       "    u'created': True,\n",
       "    u'result': u'created',\n",
       "    u'status': 201}},\n",
       "  {u'index': {u'_id': u'100067497',\n",
       "    u'_index': u'movie',\n",
       "    u'_shards': {u'failed': 0, u'successful': 1, u'total': 2},\n",
       "    u'_type': u'VOD',\n",
       "    u'_version': 1,\n",
       "    u'created': True,\n",
       "    u'result': u'created',\n",
       "    u'status': 201}}],\n",
       " u'took': 1402}"
      ]
     },
     "execution_count": 403,
     "metadata": {},
     "output_type": "execute_result"
    }
   ],
   "source": [
    "# index data to elasticsearch by bulk API\n",
    "pyels.bulk_index(index=_index, doc_type=_doctype, docs=copy.deepcopy(docs[:]), id_field='id')"
   ]
  },
  {
   "cell_type": "code",
   "execution_count": 417,
   "metadata": {},
   "outputs": [],
   "source": [
    "# filter with State, ShowTimeMovie, EndTimeMovie\n",
    "\n",
    "_query = {\n",
    "    \"query\": { \n",
    "        \"bool\": { \n",
    "            \"must\": [\n",
    "                { \"match\": { \"TitleSearch\":   \"Test 4K\"        }},  \n",
    "            ],\n",
    "            \"filter\": [ \n",
    "                { \"term\":  { \"State\": '4' }}, \n",
    "                { \"range\": \n",
    "                    { \"ShowTimeMovie\": { \"gte\": \"now\" }}\n",
    "                }\n",
    "                \n",
    "            ]\n",
    "        }\n",
    "    }\n",
    "}"
   ]
  },
  {
   "cell_type": "code",
   "execution_count": 416,
   "metadata": {},
   "outputs": [
    {
     "data": {
      "text/plain": [
       "{u'_shards': {u'failed': 0, u'successful': 5, u'total': 5},\n",
       " u'hits': {u'hits': [{u'_id': u'100067497',\n",
       "    u'_index': u'movie',\n",
       "    u'_score': 0.75196105,\n",
       "    u'_source': {u'Actors': u'',\n",
       "     u'AppID': 21,\n",
       "     u'Directors': u'',\n",
       "     u'EndTimeMovie': u'2100-01-01T00:00:00',\n",
       "     u'Folder': 509,\n",
       "     u'Image': u'http://fboximages.fptplay.net.vn/VOD/FullHD/2018/07/Test4KLG_2018_USA_B_5T/Test4KLG_2018_USA_B_5T_S.jpg',\n",
       "     u'Lead': u'',\n",
       "     u'ListOnfolder': u'509,19',\n",
       "     u'LocalType': 1,\n",
       "     u'MPA': u'G',\n",
       "     u'Parental': 0,\n",
       "     u'Producers': u'',\n",
       "     u'Release': 2018,\n",
       "     u'ShowTimeMovie': u'2019-07-20T00:00:00',\n",
       "     u'State': 4,\n",
       "     u'Status': 0,\n",
       "     u'Title': u'Test 4K LG (Test 4K LG)',\n",
       "     u'TitleEN': u'Test 4K LG',\n",
       "     u'TitleSearch': u'Test 4K LG (Test 4K LG)',\n",
       "     u'TitleVN': u'Test 4K LG',\n",
       "     u'TopTitle': u'FullHD 1080'},\n",
       "    u'_type': u'VOD'},\n",
       "   {u'_id': u'100067433',\n",
       "    u'_index': u'movie',\n",
       "    u'_score': 0.34903252,\n",
       "    u'_source': {u'Actors': u'',\n",
       "     u'AppID': 21,\n",
       "     u'Directors': u'',\n",
       "     u'EndTimeMovie': u'2100-01-01T00:00:00',\n",
       "     u'Folder': 509,\n",
       "     u'Image': u'http://fboximages.fptplay.net.vn/VOD/FullHD/2018/07/Testprofile4K_2018_USA_B_10T/Testprofile4K_2018_USA_B_10T_S.jpg',\n",
       "     u'Lead': u'',\n",
       "     u'ListOnfolder': u'509,19',\n",
       "     u'LocalType': 1,\n",
       "     u'MPA': u'R',\n",
       "     u'Parental': 16,\n",
       "     u'Producers': u'',\n",
       "     u'Release': 2018,\n",
       "     u'ShowTimeMovie': u'2019-01-01T00:00:00',\n",
       "     u'State': 4,\n",
       "     u'Status': 0,\n",
       "     u'Title': u'Test profile 4K (Test profile 4K)',\n",
       "     u'TitleEN': u'Test profile 4K',\n",
       "     u'TitleSearch': u'Test profile 4K (Test profile 4K)',\n",
       "     u'TitleVN': u'Test profile 4K',\n",
       "     u'TopTitle': u'FullHD 1080'},\n",
       "    u'_type': u'VOD'},\n",
       "   {u'_id': u'100067495',\n",
       "    u'_index': u'movie',\n",
       "    u'_score': 0.34903252,\n",
       "    u'_source': {u'Actors': u'',\n",
       "     u'AppID': 21,\n",
       "     u'Directors': u'',\n",
       "     u'EndTimeMovie': u'2100-01-01T00:00:00',\n",
       "     u'Folder': 509,\n",
       "     u'Image': u'http://fboximages.fptplay.net.vn/VOD/FullHD/2018/07/Test4KSamsung_2018_USA_B_5T/Test4KSamsung_2018_USA_B_5T_S.jpg',\n",
       "     u'Lead': u'',\n",
       "     u'ListOnfolder': u'509,19',\n",
       "     u'LocalType': 1,\n",
       "     u'MPA': u'G',\n",
       "     u'Parental': 0,\n",
       "     u'Producers': u'',\n",
       "     u'Release': 2018,\n",
       "     u'ShowTimeMovie': u'2019-07-20T00:00:00',\n",
       "     u'State': 4,\n",
       "     u'Status': 0,\n",
       "     u'Title': u'Test 4K Samsung (Test 4K Samsung)',\n",
       "     u'TitleEN': u'Test 4K Samsung',\n",
       "     u'TitleSearch': u'Test 4K Samsung (Test 4K Samsung)',\n",
       "     u'TitleVN': u'Test 4K Samsung',\n",
       "     u'TopTitle': u'FullHD 1080'},\n",
       "    u'_type': u'VOD'},\n",
       "   {u'_id': u'100067496',\n",
       "    u'_index': u'movie',\n",
       "    u'_score': 0.34903252,\n",
       "    u'_source': {u'Actors': u'',\n",
       "     u'AppID': 21,\n",
       "     u'Directors': u'',\n",
       "     u'EndTimeMovie': u'2100-01-01T00:00:00',\n",
       "     u'Folder': 509,\n",
       "     u'Image': u'http://fboximages.fptplay.net.vn/VOD/FullHD/2018/07/Test4KSony_2018_USA_B_5T/Test4KSony_2018_USA_B_5T_S.jpg',\n",
       "     u'Lead': u'',\n",
       "     u'ListOnfolder': u'509,19',\n",
       "     u'LocalType': 1,\n",
       "     u'MPA': u'G',\n",
       "     u'Parental': 0,\n",
       "     u'Producers': u'',\n",
       "     u'Release': 2018,\n",
       "     u'ShowTimeMovie': u'2019-07-20T00:00:00',\n",
       "     u'State': 4,\n",
       "     u'Status': 0,\n",
       "     u'Title': u'Test 4K Sony (Test 4K Sony)',\n",
       "     u'TitleEN': u'Test 4K Sony',\n",
       "     u'TitleSearch': u'Test 4K Sony (Test 4K Sony)',\n",
       "     u'TitleVN': u'Test 4K Sony',\n",
       "     u'TopTitle': u'FullHD 1080'},\n",
       "    u'_type': u'VOD'}],\n",
       "  u'max_score': 0.75196105,\n",
       "  u'total': 4},\n",
       " u'timed_out': False,\n",
       " u'took': 110}"
      ]
     },
     "execution_count": 416,
     "metadata": {},
     "output_type": "execute_result"
    }
   ],
   "source": [
    "pyels.search(query=_query, index=_index, doc_type=_doctype)"
   ]
  },
  {
   "cell_type": "code",
   "execution_count": null,
   "metadata": {},
   "outputs": [],
   "source": []
  }
 ],
 "metadata": {
  "kernelspec": {
   "display_name": "Python 2",
   "language": "python",
   "name": "python2"
  },
  "language_info": {
   "codemirror_mode": {
    "name": "ipython",
    "version": 2
   },
   "file_extension": ".py",
   "mimetype": "text/x-python",
   "name": "python",
   "nbconvert_exporter": "python",
   "pygments_lexer": "ipython2",
   "version": "2.7.15"
  }
 },
 "nbformat": 4,
 "nbformat_minor": 2
}
