{
 "cells": [
  {
   "cell_type": "code",
   "execution_count": 1,
   "metadata": {},
   "outputs": [],
   "source": [
    "# import necessary library for view directory\n",
    "import os\n",
    "import sys"
   ]
  },
  {
   "cell_type": "code",
   "execution_count": 9,
   "metadata": {},
   "outputs": [],
   "source": [
    "cur_path = './'\n",
    "parent_path = '../'"
   ]
  },
  {
   "cell_type": "code",
   "execution_count": 8,
   "metadata": {},
   "outputs": [
    {
     "data": {
      "text/plain": [
       "['.ipynb_checkpoints', 'demo example.ipynb']"
      ]
     },
     "execution_count": 8,
     "metadata": {},
     "output_type": "execute_result"
    }
   ],
   "source": [
    "os.listdir(cur_path)"
   ]
  },
  {
   "cell_type": "code",
   "execution_count": 10,
   "metadata": {},
   "outputs": [
    {
     "data": {
      "text/plain": [
       "['.ipynb_checkpoints',\n",
       " 'elasticsearch',\n",
       " 'elasticsearch notebook code.ipynb',\n",
       " 'elasticsearch with pyelasticsearch.ipynb']"
      ]
     },
     "execution_count": 10,
     "metadata": {},
     "output_type": "execute_result"
    }
   ],
   "source": [
    "os.listdir(parent_path)"
   ]
  },
  {
   "cell_type": "code",
   "execution_count": 11,
   "metadata": {},
   "outputs": [
    {
     "data": {
      "text/plain": [
       "['Data', 'Document', 'Resouce']"
      ]
     },
     "execution_count": 11,
     "metadata": {},
     "output_type": "execute_result"
    }
   ],
   "source": [
    "os.listdir(parent_path*2)"
   ]
  },
  {
   "cell_type": "code",
   "execution_count": 13,
   "metadata": {},
   "outputs": [],
   "source": [
    "data_dir_path = parent_path * 2 + 'Data/'"
   ]
  },
  {
   "cell_type": "code",
   "execution_count": 14,
   "metadata": {},
   "outputs": [
    {
     "data": {
      "text/plain": [
       "['ElasticSearch']"
      ]
     },
     "execution_count": 14,
     "metadata": {},
     "output_type": "execute_result"
    }
   ],
   "source": [
    "os.listdir(data_dir_path)"
   ]
  },
  {
   "cell_type": "code",
   "execution_count": 15,
   "metadata": {},
   "outputs": [
    {
     "data": {
      "text/plain": [
       "['VOD_Metadata.csv']"
      ]
     },
     "execution_count": 15,
     "metadata": {},
     "output_type": "execute_result"
    }
   ],
   "source": [
    "os.listdir(data_dir_path + 'ElasticSearch/')"
   ]
  },
  {
   "cell_type": "code",
   "execution_count": 16,
   "metadata": {},
   "outputs": [],
   "source": [
    "data_path = data_dir_path + 'ElasticSearch/' + 'VOD_Metadata.csv'"
   ]
  },
  {
   "cell_type": "code",
   "execution_count": 17,
   "metadata": {},
   "outputs": [],
   "source": [
    "# import library for handle file .csv and manipulate data\n",
    "import pandas as pd\n",
    "import csv\n",
    "import json"
   ]
  },
  {
   "cell_type": "code",
   "execution_count": 18,
   "metadata": {},
   "outputs": [],
   "source": [
    "??pd.read_csv()"
   ]
  },
  {
   "cell_type": "code",
   "execution_count": 23,
   "metadata": {},
   "outputs": [],
   "source": [
    "# load data\n",
    "csv_data = pd.read_csv(filepath_or_buffer=data_path)"
   ]
  },
  {
   "cell_type": "code",
   "execution_count": 165,
   "metadata": {},
   "outputs": [
    {
     "name": "stdout",
     "output_type": "stream",
     "text": [
      "<class 'pandas.core.frame.DataFrame'>\n",
      "RangeIndex: 9963 entries, 0 to 9962\n",
      "Data columns (total 22 columns):\n",
      "id               9963 non-null int64\n",
      "Title            9963 non-null object\n",
      "TitleEN          9963 non-null object\n",
      "TitleSearch      9963 non-null object\n",
      "TitleVN          9963 non-null object\n",
      "TopTitle         9963 non-null object\n",
      "State            9963 non-null int64\n",
      "Status           9963 non-null int64\n",
      "Image            9963 non-null object\n",
      "Actors           9806 non-null object\n",
      "Directors        9690 non-null object\n",
      "ShowTimeMovie    9963 non-null object\n",
      "Lead             9959 non-null object\n",
      "LocalType        9963 non-null int64\n",
      "Release          9963 non-null int64\n",
      "AppID            9963 non-null int64\n",
      "Folder           9963 non-null int64\n",
      "ListOnfolder     9963 non-null object\n",
      "EndTimeMovie     9963 non-null object\n",
      "MPA              9963 non-null object\n",
      "Producers        9655 non-null object\n",
      "Parental         9963 non-null int64\n",
      "dtypes: int64(8), object(14)\n",
      "memory usage: 1.7+ MB\n"
     ]
    }
   ],
   "source": [
    "# funny -> below section we can try to practice\n",
    "# this job for merry, let's enjoy.\n",
    "# csv_data.head()\n",
    "csv_data.info()"
   ]
  },
  {
   "cell_type": "code",
   "execution_count": 159,
   "metadata": {},
   "outputs": [
    {
     "data": {
      "text/plain": [
       "(2978, 22)"
      ]
     },
     "execution_count": 159,
     "metadata": {},
     "output_type": "execute_result"
    }
   ],
   "source": [
    "csv_data[csv_data.State==5].shape"
   ]
  },
  {
   "cell_type": "code",
   "execution_count": 164,
   "metadata": {},
   "outputs": [
    {
     "data": {
      "text/plain": [
       "(9963, 22)"
      ]
     },
     "execution_count": 164,
     "metadata": {},
     "output_type": "execute_result"
    }
   ],
   "source": [
    "csv_data.shape"
   ]
  },
  {
   "cell_type": "code",
   "execution_count": 34,
   "metadata": {},
   "outputs": [
    {
     "data": {
      "text/plain": [
       "['Actors', 'Directors', 'Lead', 'Producers']"
      ]
     },
     "execution_count": 34,
     "metadata": {},
     "output_type": "execute_result"
    }
   ],
   "source": [
    "# view fields/ columns have null/nan value\n",
    "csv_data.columns[csv_data.isna().any()].tolist()"
   ]
  },
  {
   "cell_type": "code",
   "execution_count": 44,
   "metadata": {},
   "outputs": [
    {
     "name": "stdout",
     "output_type": "stream",
     "text": [
      "<class 'pandas.core.frame.DataFrame'>\n"
     ]
    },
    {
     "data": {
      "text/html": [
       "<div>\n",
       "<style scoped>\n",
       "    .dataframe tbody tr th:only-of-type {\n",
       "        vertical-align: middle;\n",
       "    }\n",
       "\n",
       "    .dataframe tbody tr th {\n",
       "        vertical-align: top;\n",
       "    }\n",
       "\n",
       "    .dataframe thead th {\n",
       "        text-align: right;\n",
       "    }\n",
       "</style>\n",
       "<table border=\"1\" class=\"dataframe\">\n",
       "  <thead>\n",
       "    <tr style=\"text-align: right;\">\n",
       "      <th></th>\n",
       "      <th>id</th>\n",
       "      <th>Title</th>\n",
       "      <th>TitleEN</th>\n",
       "      <th>TitleSearch</th>\n",
       "      <th>TitleVN</th>\n",
       "      <th>TopTitle</th>\n",
       "      <th>State</th>\n",
       "      <th>Status</th>\n",
       "      <th>Image</th>\n",
       "      <th>Actors</th>\n",
       "      <th>...</th>\n",
       "      <th>Lead</th>\n",
       "      <th>LocalType</th>\n",
       "      <th>Release</th>\n",
       "      <th>AppID</th>\n",
       "      <th>Folder</th>\n",
       "      <th>ListOnfolder</th>\n",
       "      <th>EndTimeMovie</th>\n",
       "      <th>MPA</th>\n",
       "      <th>Producers</th>\n",
       "      <th>Parental</th>\n",
       "    </tr>\n",
       "  </thead>\n",
       "  <tbody>\n",
       "    <tr>\n",
       "      <th>9479</th>\n",
       "      <td>100067433</td>\n",
       "      <td>Test profile 4K (Test profile 4K)</td>\n",
       "      <td>Test profile 4K</td>\n",
       "      <td>Test profile 4K (Test profile 4K)</td>\n",
       "      <td>Test profile 4K</td>\n",
       "      <td>FullHD 1080</td>\n",
       "      <td>4</td>\n",
       "      <td>0</td>\n",
       "      <td>http://fboximages.fptplay.net.vn/VOD/FullHD/20...</td>\n",
       "      <td>NaN</td>\n",
       "      <td>...</td>\n",
       "      <td>NaN</td>\n",
       "      <td>1</td>\n",
       "      <td>2018</td>\n",
       "      <td>21</td>\n",
       "      <td>509</td>\n",
       "      <td>509,19</td>\n",
       "      <td>2100-01-01 00:00:00.000</td>\n",
       "      <td>R</td>\n",
       "      <td>NaN</td>\n",
       "      <td>16</td>\n",
       "    </tr>\n",
       "    <tr>\n",
       "      <th>9508</th>\n",
       "      <td>100067495</td>\n",
       "      <td>Test 4K Samsung (Test 4K Samsung)</td>\n",
       "      <td>Test 4K Samsung</td>\n",
       "      <td>Test 4K Samsung (Test 4K Samsung)</td>\n",
       "      <td>Test 4K Samsung</td>\n",
       "      <td>FullHD 1080</td>\n",
       "      <td>4</td>\n",
       "      <td>0</td>\n",
       "      <td>http://fboximages.fptplay.net.vn/VOD/FullHD/20...</td>\n",
       "      <td>NaN</td>\n",
       "      <td>...</td>\n",
       "      <td>NaN</td>\n",
       "      <td>1</td>\n",
       "      <td>2018</td>\n",
       "      <td>21</td>\n",
       "      <td>509</td>\n",
       "      <td>509,19</td>\n",
       "      <td>2100-01-01 00:00:00.000</td>\n",
       "      <td>G</td>\n",
       "      <td>NaN</td>\n",
       "      <td>0</td>\n",
       "    </tr>\n",
       "    <tr>\n",
       "      <th>9509</th>\n",
       "      <td>100067496</td>\n",
       "      <td>Test 4K Sony (Test 4K Sony)</td>\n",
       "      <td>Test 4K Sony</td>\n",
       "      <td>Test 4K Sony (Test 4K Sony)</td>\n",
       "      <td>Test 4K Sony</td>\n",
       "      <td>FullHD 1080</td>\n",
       "      <td>4</td>\n",
       "      <td>0</td>\n",
       "      <td>http://fboximages.fptplay.net.vn/VOD/FullHD/20...</td>\n",
       "      <td>NaN</td>\n",
       "      <td>...</td>\n",
       "      <td>NaN</td>\n",
       "      <td>1</td>\n",
       "      <td>2018</td>\n",
       "      <td>21</td>\n",
       "      <td>509</td>\n",
       "      <td>509,19</td>\n",
       "      <td>2100-01-01 00:00:00.000</td>\n",
       "      <td>G</td>\n",
       "      <td>NaN</td>\n",
       "      <td>0</td>\n",
       "    </tr>\n",
       "    <tr>\n",
       "      <th>9510</th>\n",
       "      <td>100067497</td>\n",
       "      <td>Test 4K LG (Test 4K LG)</td>\n",
       "      <td>Test 4K LG</td>\n",
       "      <td>Test 4K LG (Test 4K LG)</td>\n",
       "      <td>Test 4K LG</td>\n",
       "      <td>FullHD 1080</td>\n",
       "      <td>4</td>\n",
       "      <td>0</td>\n",
       "      <td>http://fboximages.fptplay.net.vn/VOD/FullHD/20...</td>\n",
       "      <td>NaN</td>\n",
       "      <td>...</td>\n",
       "      <td>NaN</td>\n",
       "      <td>1</td>\n",
       "      <td>2018</td>\n",
       "      <td>21</td>\n",
       "      <td>509</td>\n",
       "      <td>509,19</td>\n",
       "      <td>2100-01-01 00:00:00.000</td>\n",
       "      <td>G</td>\n",
       "      <td>NaN</td>\n",
       "      <td>0</td>\n",
       "    </tr>\n",
       "  </tbody>\n",
       "</table>\n",
       "<p>4 rows × 22 columns</p>\n",
       "</div>"
      ],
      "text/plain": [
       "             id                              Title          TitleEN  \\\n",
       "9479  100067433  Test profile 4K (Test profile 4K)  Test profile 4K   \n",
       "9508  100067495  Test 4K Samsung (Test 4K Samsung)  Test 4K Samsung   \n",
       "9509  100067496        Test 4K Sony (Test 4K Sony)     Test 4K Sony   \n",
       "9510  100067497            Test 4K LG (Test 4K LG)       Test 4K LG   \n",
       "\n",
       "                            TitleSearch          TitleVN     TopTitle  State  \\\n",
       "9479  Test profile 4K (Test profile 4K)  Test profile 4K  FullHD 1080      4   \n",
       "9508  Test 4K Samsung (Test 4K Samsung)  Test 4K Samsung  FullHD 1080      4   \n",
       "9509        Test 4K Sony (Test 4K Sony)     Test 4K Sony  FullHD 1080      4   \n",
       "9510            Test 4K LG (Test 4K LG)       Test 4K LG  FullHD 1080      4   \n",
       "\n",
       "      Status                                              Image Actors  \\\n",
       "9479       0  http://fboximages.fptplay.net.vn/VOD/FullHD/20...    NaN   \n",
       "9508       0  http://fboximages.fptplay.net.vn/VOD/FullHD/20...    NaN   \n",
       "9509       0  http://fboximages.fptplay.net.vn/VOD/FullHD/20...    NaN   \n",
       "9510       0  http://fboximages.fptplay.net.vn/VOD/FullHD/20...    NaN   \n",
       "\n",
       "       ...    Lead LocalType Release  AppID  Folder  ListOnfolder  \\\n",
       "9479   ...     NaN         1    2018     21     509        509,19   \n",
       "9508   ...     NaN         1    2018     21     509        509,19   \n",
       "9509   ...     NaN         1    2018     21     509        509,19   \n",
       "9510   ...     NaN         1    2018     21     509        509,19   \n",
       "\n",
       "                 EndTimeMovie MPA Producers Parental  \n",
       "9479  2100-01-01 00:00:00.000   R       NaN       16  \n",
       "9508  2100-01-01 00:00:00.000   G       NaN        0  \n",
       "9509  2100-01-01 00:00:00.000   G       NaN        0  \n",
       "9510  2100-01-01 00:00:00.000   G       NaN        0  \n",
       "\n",
       "[4 rows x 22 columns]"
      ]
     },
     "execution_count": 44,
     "metadata": {},
     "output_type": "execute_result"
    }
   ],
   "source": [
    "# view records have null/nan value in Lead column\n",
    "nan_Lead_data = csv_data.loc[csv_data.Lead.isnull(), :]\n",
    "print(type(nan_Lead_data))\n",
    "nan_Lead_data"
   ]
  },
  {
   "cell_type": "code",
   "execution_count": null,
   "metadata": {},
   "outputs": [],
   "source": [
    "??csv_data.to_json()"
   ]
  },
  {
   "cell_type": "code",
   "execution_count": 144,
   "metadata": {},
   "outputs": [],
   "source": [
    "# convert nan_Lead_data to json format with record type -> result type : string\n",
    "str_lines_json_nan_Lead = nan_Lead_data.to_json(orient='records', lines=True)"
   ]
  },
  {
   "cell_type": "code",
   "execution_count": 153,
   "metadata": {},
   "outputs": [
    {
     "name": "stdout",
     "output_type": "stream",
     "text": [
      "<type 'unicode'>\n",
      "{\"id\":100067433,\"Title\":\"Test profile 4K (Test profile 4K)\",\"TitleEN\":\"Test profile 4K\",\"TitleSearch\":\"Test profile 4K (Test profile 4K)\",\"TitleVN\":\"Test profile 4K\",\"TopTitle\":\"FullHD 1080\",\"State\":4,\"Status\":0,\"Image\":\"http:\\/\\/fboximages.fptplay.net.vn\\/VOD\\/FullHD\\/2018\\/07\\/Testprofile4K_2018_USA_B_10T\\/Testprofile4K_2018_USA_B_10T_S.jpg\",\"Actors\":null,\"Directors\":null,\"ShowTimeMovie\":\"2019-01-01 00:00:00.000\",\"Lead\":null,\"LocalType\":1,\"Release\":2018,\"AppID\":21,\"Folder\":509,\"ListOnfolder\":\"509,19\",\"EndTimeMovie\":\"2100-01-01 00:00:00.000\",\"MPA\":\"R\",\"Producers\":null,\"Parental\":16}\n",
      "{\"id\":100067495,\"Title\":\"Test 4K Samsung (Test 4K Samsung)\",\"TitleEN\":\"Test 4K Samsung\",\"TitleSearch\":\"Test 4K Samsung (Test 4K Samsung)\",\"TitleVN\":\"Test 4K Samsung\",\"TopTitle\":\"FullHD 1080\",\"State\":4,\"Status\":0,\"Image\":\"http:\\/\\/fboximages.fptplay.net.vn\\/VOD\\/FullHD\\/2018\\/07\\/Test4KSamsung_2018_USA_B_5T\\/Test4KSamsung_2018_USA_B_5T_S.jpg\",\"Actors\":null,\"Directors\":null,\"ShowTimeMovie\":\"2019-07-20 00:00:00.000\",\"Lead\":null,\"LocalType\":1,\"Release\":2018,\"AppID\":21,\"Folder\":509,\"ListOnfolder\":\"509,19\",\"EndTimeMovie\":\"2100-01-01 00:00:00.000\",\"MPA\":\"G\",\"Producers\":null,\"Parental\":0}\n",
      "{\"id\":100067496,\"Title\":\"Test 4K Sony (Test 4K Sony)\",\"TitleEN\":\"Test 4K Sony\",\"TitleSearch\":\"Test 4K Sony (Test 4K Sony)\",\"TitleVN\":\"Test 4K Sony\",\"TopTitle\":\"FullHD 1080\",\"State\":4,\"Status\":0,\"Image\":\"http:\\/\\/fboximages.fptplay.net.vn\\/VOD\\/FullHD\\/2018\\/07\\/Test4KSony_2018_USA_B_5T\\/Test4KSony_2018_USA_B_5T_S.jpg\",\"Actors\":null,\"Directors\":null,\"ShowTimeMovie\":\"2019-07-20 00:00:00.000\",\"Lead\":null,\"LocalType\":1,\"Release\":2018,\"AppID\":21,\"Folder\":509,\"ListOnfolder\":\"509,19\",\"EndTimeMovie\":\"2100-01-01 00:00:00.000\",\"MPA\":\"G\",\"Producers\":null,\"Parental\":0}\n",
      "{\"id\":100067497,\"Title\":\"Test 4K LG (Test 4K LG)\",\"TitleEN\":\"Test 4K LG\",\"TitleSearch\":\"Test 4K LG (Test 4K LG)\",\"TitleVN\":\"Test 4K LG\",\"TopTitle\":\"FullHD 1080\",\"State\":4,\"Status\":0,\"Image\":\"http:\\/\\/fboximages.fptplay.net.vn\\/VOD\\/FullHD\\/2018\\/07\\/Test4KLG_2018_USA_B_5T\\/Test4KLG_2018_USA_B_5T_S.jpg\",\"Actors\":null,\"Directors\":null,\"ShowTimeMovie\":\"2019-07-20 00:00:00.000\",\"Lead\":null,\"LocalType\":1,\"Release\":2018,\"AppID\":21,\"Folder\":509,\"ListOnfolder\":\"509,19\",\"EndTimeMovie\":\"2100-01-01 00:00:00.000\",\"MPA\":\"G\",\"Producers\":null,\"Parental\":0}\n"
     ]
    }
   ],
   "source": [
    "# view type of to_json method return\n",
    "print(type(str_lines_json_nan_Lead))\n",
    "print(str_lines_json_nan_Lead)"
   ]
  },
  {
   "cell_type": "code",
   "execution_count": 149,
   "metadata": {},
   "outputs": [],
   "source": [
    "# Because, in to_json method we used lines=True parameter\n",
    "# -> output to_json method is separate with '\\n'\n",
    "# --> we will split to get list jsons\n",
    "list_json_nan_Lead = str_lines_json_nan_Lead.splitlines()"
   ]
  },
  {
   "cell_type": "code",
   "execution_count": 150,
   "metadata": {},
   "outputs": [
    {
     "name": "stdout",
     "output_type": "stream",
     "text": [
      "<type 'list'>\n",
      "4\n"
     ]
    }
   ],
   "source": [
    "# represent type and len of list_json_nan_Lead\n",
    "print(type(list_json_nan_Lead))\n",
    "print(len(list_json_nan_Lead))"
   ]
  },
  {
   "cell_type": "code",
   "execution_count": 77,
   "metadata": {},
   "outputs": [
    {
     "data": {
      "text/plain": [
       "u'{\"id\":100067433,\"Title\":\"Test profile 4K (Test profile 4K)\",\"TitleEN\":\"Test profile 4K\",\"TitleSearch\":\"Test profile 4K (Test profile 4K)\",\"TitleVN\":\"Test profile 4K\",\"TopTitle\":\"FullHD 1080\",\"State\":4,\"Status\":0,\"Image\":\"http:\\\\/\\\\/fboximages.fptplay.net.vn\\\\/VOD\\\\/FullHD\\\\/2018\\\\/07\\\\/Testprofile4K_2018_USA_B_10T\\\\/Testprofile4K_2018_USA_B_10T_S.jpg\",\"Actors\":null,\"Directors\":null,\"ShowTimeMovie\":\"2019-01-01 00:00:00.000\",\"Lead\":null,\"LocalType\":1,\"Release\":2018,\"AppID\":21,\"Folder\":509,\"ListOnfolder\":\"509,19\",\"EndTimeMovie\":\"2100-01-01 00:00:00.000\",\"MPA\":\"R\",\"Producers\":null,\"Parental\":16}'"
      ]
     },
     "execution_count": 77,
     "metadata": {},
     "output_type": "execute_result"
    }
   ],
   "source": [
    "# view the first element of list_json_nan_Lead\n",
    "list_json_nan_Lead[0]"
   ]
  },
  {
   "cell_type": "code",
   "execution_count": 168,
   "metadata": {},
   "outputs": [],
   "source": [
    "# convert json string to dictionary type in python\n",
    "# here, we used the first list_json_nan_Lead\n",
    "# repectively, row 9479 (begin count = 0) in our data\n",
    "dic_nan_Lead_row_9479 = json.loads(s=list_json_nan_Lead[0])"
   ]
  },
  {
   "cell_type": "code",
   "execution_count": 169,
   "metadata": {},
   "outputs": [
    {
     "name": "stdout",
     "output_type": "stream",
     "text": [
      "<type 'dict'>\n"
     ]
    },
    {
     "data": {
      "text/plain": [
       "{u'Actors': None,\n",
       " u'AppID': 21,\n",
       " u'Directors': None,\n",
       " u'EndTimeMovie': u'2100-01-01 00:00:00.000',\n",
       " u'Folder': 509,\n",
       " u'Image': u'http://fboximages.fptplay.net.vn/VOD/FullHD/2018/07/Testprofile4K_2018_USA_B_10T/Testprofile4K_2018_USA_B_10T_S.jpg',\n",
       " u'Lead': None,\n",
       " u'ListOnfolder': u'509,19',\n",
       " u'LocalType': 1,\n",
       " u'MPA': u'R',\n",
       " u'Parental': 16,\n",
       " u'Producers': None,\n",
       " u'Release': 2018,\n",
       " u'ShowTimeMovie': u'2019-01-01 00:00:00.000',\n",
       " u'State': 4,\n",
       " u'Status': 0,\n",
       " u'Title': u'Test profile 4K (Test profile 4K)',\n",
       " u'TitleEN': u'Test profile 4K',\n",
       " u'TitleSearch': u'Test profile 4K (Test profile 4K)',\n",
       " u'TitleVN': u'Test profile 4K',\n",
       " u'TopTitle': u'FullHD 1080',\n",
       " u'id': 100067433}"
      ]
     },
     "execution_count": 169,
     "metadata": {},
     "output_type": "execute_result"
    }
   ],
   "source": [
    "print(type(dic_nan_Lead_row_9479))\n",
    "dic_nan_Lead_row_9479"
   ]
  },
  {
   "cell_type": "code",
   "execution_count": 174,
   "metadata": {},
   "outputs": [
    {
     "data": {
      "text/plain": [
       "id                                                       100067433\n",
       "Title                            Test profile 4K (Test profile 4K)\n",
       "TitleEN                                            Test profile 4K\n",
       "TitleSearch                      Test profile 4K (Test profile 4K)\n",
       "TitleVN                                            Test profile 4K\n",
       "TopTitle                                               FullHD 1080\n",
       "State                                                            4\n",
       "Status                                                           0\n",
       "Image            http://fboximages.fptplay.net.vn/VOD/FullHD/20...\n",
       "Actors                                                         NaN\n",
       "Directors                                                      NaN\n",
       "ShowTimeMovie                              2019-01-01 00:00:00.000\n",
       "Lead                                                           NaN\n",
       "LocalType                                                        1\n",
       "Release                                                       2018\n",
       "AppID                                                           21\n",
       "Folder                                                         509\n",
       "ListOnfolder                                                509,19\n",
       "EndTimeMovie                               2100-01-01 00:00:00.000\n",
       "MPA                                                              R\n",
       "Producers                                                      NaN\n",
       "Parental                                                        16\n",
       "Name: 9479, dtype: object"
      ]
     },
     "execution_count": 174,
     "metadata": {},
     "output_type": "execute_result"
    }
   ],
   "source": [
    "csv_data.loc[9479]"
   ]
  },
  {
   "cell_type": "code",
   "execution_count": 172,
   "metadata": {},
   "outputs": [
    {
     "name": "stdout",
     "output_type": "stream",
     "text": [
      "None\n"
     ]
    },
    {
     "data": {
      "text/plain": [
       "u'2100-01-01 00:00:00.000'"
      ]
     },
     "execution_count": 172,
     "metadata": {},
     "output_type": "execute_result"
    }
   ],
   "source": [
    "print(dic_nan_Lead_row_9479['Lead'])\n",
    "dic_nan_Lead_row_9479.get('EndTimeMovie')"
   ]
  },
  {
   "cell_type": "code",
   "execution_count": 134,
   "metadata": {},
   "outputs": [],
   "source": [
    "list_dic_nan_Lead = [json.loads(json_nan_Lead) for json_nan_Lead in list_json_nan_Lead]"
   ]
  },
  {
   "cell_type": "code",
   "execution_count": 136,
   "metadata": {},
   "outputs": [
    {
     "data": {
      "text/plain": [
       "{u'Actors': None,\n",
       " u'AppID': 21,\n",
       " u'Directors': None,\n",
       " u'EndTimeMovie': u'2100-01-01 00:00:00.000',\n",
       " u'Folder': 509,\n",
       " u'Image': u'http://fboximages.fptplay.net.vn/VOD/FullHD/2018/07/Test4KSamsung_2018_USA_B_5T/Test4KSamsung_2018_USA_B_5T_S.jpg',\n",
       " u'Lead': None,\n",
       " u'ListOnfolder': u'509,19',\n",
       " u'LocalType': 1,\n",
       " u'MPA': u'G',\n",
       " u'Parental': 0,\n",
       " u'Producers': None,\n",
       " u'Release': 2018,\n",
       " u'ShowTimeMovie': u'2019-07-20 00:00:00.000',\n",
       " u'State': 4,\n",
       " u'Status': 0,\n",
       " u'Title': u'Test 4K Samsung (Test 4K Samsung)',\n",
       " u'TitleEN': u'Test 4K Samsung',\n",
       " u'TitleSearch': u'Test 4K Samsung (Test 4K Samsung)',\n",
       " u'TitleVN': u'Test 4K Samsung',\n",
       " u'TopTitle': u'FullHD 1080',\n",
       " u'id': 100067495}"
      ]
     },
     "execution_count": 136,
     "metadata": {},
     "output_type": "execute_result"
    }
   ],
   "source": [
    "list_dic_nan_Lead[1]"
   ]
  },
  {
   "cell_type": "code",
   "execution_count": null,
   "metadata": {},
   "outputs": [],
   "source": []
  }
 ],
 "metadata": {
  "kernelspec": {
   "display_name": "Python 2",
   "language": "python",
   "name": "python2"
  },
  "language_info": {
   "codemirror_mode": {
    "name": "ipython",
    "version": 2
   },
   "file_extension": ".py",
   "mimetype": "text/x-python",
   "name": "python",
   "nbconvert_exporter": "python",
   "pygments_lexer": "ipython2",
   "version": "2.7.15"
  }
 },
 "nbformat": 4,
 "nbformat_minor": 2
}
